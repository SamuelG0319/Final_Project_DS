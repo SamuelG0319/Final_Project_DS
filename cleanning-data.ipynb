{
 "cells": [
  {
   "cell_type": "code",
   "execution_count": 1,
   "id": "5463d93c",
   "metadata": {},
   "outputs": [
    {
     "name": "stdout",
     "output_type": "stream",
     "text": [
      "-> All libraries imported successfully.\n"
     ]
    }
   ],
   "source": [
    "import pandas as pd\n",
    "import numpy as n\n",
    "print('-> All libraries imported successfully.')"
   ]
  },
  {
   "cell_type": "code",
   "execution_count": 2,
   "id": "a32cf2d9",
   "metadata": {},
   "outputs": [
    {
     "name": "stdout",
     "output_type": "stream",
     "text": [
      "-> CSV file imported successfully.\n"
     ]
    }
   ],
   "source": [
    "df = pd.read_csv('Covid Data2.csv')\n",
    "print ('-> CSV file imported successfully.')"
   ]
  },
  {
   "cell_type": "code",
   "execution_count": 5,
   "id": "a92e8440",
   "metadata": {},
   "outputs": [
    {
     "name": "stdout",
     "output_type": "stream",
     "text": [
      "USMER                   1048575\n",
      "MEDICAL_UNIT            1048575\n",
      "SEX                     1048575\n",
      "PATIENT_TYPE            1048575\n",
      "DATE_DIED               1048575\n",
      "INTUBED                 1048575\n",
      "PNEUMONIA               1048575\n",
      "AGE                     1048575\n",
      "PREGNANT                1048575\n",
      "DIABETES                1048575\n",
      "COPD                    1048575\n",
      "ASTHMA                  1048575\n",
      "INMSUPR                 1048575\n",
      "HIPERTENSION            1048575\n",
      "OTHER_DISEASE           1048575\n",
      "CARDIOVASCULAR          1048575\n",
      "OBESITY                 1048575\n",
      "RENAL_CHRONIC           1048575\n",
      "TOBACCO                 1048575\n",
      "CLASIFFICATION_FINAL    1048575\n",
      "ICU                     1048575\n",
      "dtype: int64\n"
     ]
    }
   ],
   "source": [
    "#Total amount of data.\n",
    "rows = df.count()\n",
    "print(rows)"
   ]
  },
  {
   "cell_type": "code",
   "execution_count": 4,
   "id": "8abe1615",
   "metadata": {
    "scrolled": false
   },
   "outputs": [
    {
     "name": "stdout",
     "output_type": "stream",
     "text": [
      "USMER                   1048575\n",
      "MEDICAL_UNIT            1048575\n",
      "SEX                     1048575\n",
      "PATIENT_TYPE            1048575\n",
      "DATE_DIED               1048575\n",
      "INTUBED                 1048575\n",
      "PNEUMONIA               1048575\n",
      "AGE                     1048575\n",
      "PREGNANT                1048575\n",
      "DIABETES                1048575\n",
      "COPD                    1048575\n",
      "ASTHMA                  1048575\n",
      "INMSUPR                 1048575\n",
      "HIPERTENSION            1048575\n",
      "OTHER_DISEASE           1048575\n",
      "CARDIOVASCULAR          1048575\n",
      "OBESITY                 1048575\n",
      "RENAL_CHRONIC           1048575\n",
      "TOBACCO                 1048575\n",
      "CLASIFFICATION_FINAL    1048575\n",
      "ICU                     1048575\n",
      "dtype: int64\n"
     ]
    }
   ],
   "source": [
    "#Evaluate if there are empty fields in the data.\n",
    "empty_fields = df.isnull()\n",
    "count_of_false_intubed = (empty_fields == False).sum()\n",
    "print(count_of_false_intubed)"
   ]
  },
  {
   "cell_type": "code",
   "execution_count": null,
   "id": "68d16340",
   "metadata": {},
   "outputs": [],
   "source": []
  }
 ],
 "metadata": {
  "kernelspec": {
   "display_name": "Python 3 (ipykernel)",
   "language": "python",
   "name": "python3"
  },
  "language_info": {
   "codemirror_mode": {
    "name": "ipython",
    "version": 3
   },
   "file_extension": ".py",
   "mimetype": "text/x-python",
   "name": "python",
   "nbconvert_exporter": "python",
   "pygments_lexer": "ipython3",
   "version": "3.11.4"
  }
 },
 "nbformat": 4,
 "nbformat_minor": 5
}
