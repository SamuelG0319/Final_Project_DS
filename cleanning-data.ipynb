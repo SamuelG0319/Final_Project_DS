{
 "cells": [
  {
   "cell_type": "markdown",
   "id": "4ada74e7",
   "metadata": {},
   "source": [
    "# Proyecto Final - Covid-19 Analysis"
   ]
  },
  {
   "cell_type": "markdown",
   "id": "687f652b",
   "metadata": {},
   "source": [
    "### By: Fernanda González, Keily Marín, Samuel Lasso, Miguel Rodríguez, Carlos Serrano & Iván Valdés"
   ]
  },
  {
   "cell_type": "markdown",
   "id": "7e9f6303",
   "metadata": {},
   "source": [
    "### Importing the libraries to use"
   ]
  },
  {
   "cell_type": "code",
   "execution_count": 1,
   "id": "5463d93c",
   "metadata": {},
   "outputs": [
    {
     "name": "stdout",
     "output_type": "stream",
     "text": [
      "-> All libraries imported successfully.\n"
     ]
    }
   ],
   "source": [
    "import pandas as pd\n",
    "import numpy as np\n",
    "import matplotlib.pyplot as plt\n",
    "from matplotlib.ticker import FormatStrFormatter\n",
    "import seaborn as sns\n",
    "print('-> All libraries imported successfully.')"
   ]
  },
  {
   "cell_type": "code",
   "execution_count": 2,
   "id": "a32cf2d9",
   "metadata": {},
   "outputs": [
    {
     "name": "stdout",
     "output_type": "stream",
     "text": [
      "-> CSV file imported successfully.\n"
     ]
    }
   ],
   "source": [
    "df = pd.read_csv('Covid Data.csv')\n",
    "print ('-> CSV file imported successfully.')"
   ]
  },
  {
   "cell_type": "markdown",
   "id": "e0762498",
   "metadata": {},
   "source": [
    "### Data preparation and cleaning"
   ]
  },
  {
   "cell_type": "code",
   "execution_count": 3,
   "id": "8abe1615",
   "metadata": {
    "scrolled": false
   },
   "outputs": [
    {
     "name": "stdout",
     "output_type": "stream",
     "text": [
      "USMER                   1048575\n",
      "MEDICAL_UNIT            1048575\n",
      "SEX                     1048575\n",
      "PATIENT_TYPE            1048575\n",
      "DATE_DIED               1048575\n",
      "INTUBED                 1048575\n",
      "PNEUMONIA               1048575\n",
      "AGE                     1048575\n",
      "PREGNANT                1048575\n",
      "DIABETES                1048575\n",
      "COPD                    1048575\n",
      "ASTHMA                  1048575\n",
      "INMSUPR                 1048575\n",
      "HIPERTENSION            1048575\n",
      "OTHER_DISEASE           1048575\n",
      "CARDIOVASCULAR          1048575\n",
      "OBESITY                 1048575\n",
      "RENAL_CHRONIC           1048575\n",
      "TOBACCO                 1048575\n",
      "CLASIFFICATION_FINAL    1048575\n",
      "ICU                     1048575\n",
      "dtype: int64\n"
     ]
    }
   ],
   "source": [
    "#Evaluate if there are empty fields in the data.\n",
    "empty_fields = df.isnull()\n",
    "count_of_false_data = (empty_fields == False).sum()\n",
    "print(count_of_false_data)"
   ]
  },
  {
   "cell_type": "code",
   "execution_count": 4,
   "id": "68d16340",
   "metadata": {},
   "outputs": [],
   "source": [
    "# Checking if there's null data, but with the values of null data in this particular data set\n",
    "df_null = df.copy() #I'm creating a copy of the dataframe to not affect the original\n",
    "for i in [97, 98, 99]:\n",
    "    df_null.replace(i, np.nan, inplace = True)"
   ]
  },
  {
   "cell_type": "code",
   "execution_count": 5,
   "id": "45153905",
   "metadata": {},
   "outputs": [
    {
     "data": {
      "text/plain": [
       "USMER                        0\n",
       "MEDICAL_UNIT                 0\n",
       "SEX                          0\n",
       "PATIENT_TYPE                 0\n",
       "DATE_DIED                    0\n",
       "INTUBED                 855869\n",
       "PNEUMONIA                16003\n",
       "AGE                        345\n",
       "PREGNANT                527265\n",
       "DIABETES                  3338\n",
       "COPD                      3003\n",
       "ASTHMA                    2979\n",
       "INMSUPR                   3404\n",
       "HIPERTENSION              3104\n",
       "OTHER_DISEASE             5045\n",
       "CARDIOVASCULAR            3076\n",
       "OBESITY                   3032\n",
       "RENAL_CHRONIC             3006\n",
       "TOBACCO                   3220\n",
       "CLASIFFICATION_FINAL         0\n",
       "ICU                     856032\n",
       "dtype: int64"
      ]
     },
     "execution_count": 5,
     "metadata": {},
     "output_type": "execute_result"
    }
   ],
   "source": [
    "df_null.isnull().sum()"
   ]
  },
  {
   "cell_type": "code",
   "execution_count": 6,
   "id": "f8a35121",
   "metadata": {
    "scrolled": false
   },
   "outputs": [
    {
     "name": "stdout",
     "output_type": "stream",
     "text": [
      "At PATIENT_TYPE = 1 and at INTUBED = 1 the shape will be:\n",
      "(0, 21) \n",
      " ------------------------------------------------------------------- \n",
      "\n",
      "At PATIENT_TYPE = 2 and at INTUBED = 1 the shape will be:\n",
      "(33656, 21) \n",
      " ------------------------------------------------------------------- \n",
      "\n",
      "At PATIENT_TYPE = 1 and at INTUBED = 2 the shape will be:\n",
      "(0, 21) \n",
      " ------------------------------------------------------------------- \n",
      "\n",
      "At PATIENT_TYPE = 2 and at INTUBED = 2 the shape will be:\n",
      "(159050, 21) \n",
      " ------------------------------------------------------------------- \n",
      "\n",
      "At PATIENT_TYPE = 1 and at INTUBED = 97 the shape will be:\n",
      "(848544, 21) \n",
      " ------------------------------------------------------------------- \n",
      "\n",
      "At PATIENT_TYPE = 2 and at INTUBED = 97 the shape will be:\n",
      "(0, 21) \n",
      " ------------------------------------------------------------------- \n",
      "\n",
      "At PATIENT_TYPE = 1 and at INTUBED = 99 the shape will be:\n",
      "(0, 21) \n",
      " ------------------------------------------------------------------- \n",
      "\n",
      "At PATIENT_TYPE = 2 and at INTUBED = 99 the shape will be:\n",
      "(7325, 21) \n",
      " ------------------------------------------------------------------- \n",
      "\n"
     ]
    }
   ],
   "source": [
    "# Checking the relation between pacient type and his intubation, contemplating the null data\n",
    "for i in [1, 2, 97, 99]:\n",
    "    for j in [1, 2]:\n",
    "        print (f\"At PATIENT_TYPE = {j} and at INTUBED = {i} the shape will be:\")\n",
    "        print (df[(df['PATIENT_TYPE'] == j) & (df['INTUBED'] == i)].shape, \"\\n\",\n",
    "               \"-------------------------------------------------------------------\", \"\\n\")"
   ]
  },
  {
   "cell_type": "markdown",
   "id": "16bff1d2",
   "metadata": {},
   "source": [
    "### Cleaning the date_died column"
   ]
  },
  {
   "cell_type": "markdown",
   "id": "a0828642",
   "metadata": {},
   "source": [
    "#### Python treats the Objects as a string, so we can make some changes in it."
   ]
  },
  {
   "cell_type": "code",
   "execution_count": 7,
   "id": "02c007b0",
   "metadata": {},
   "outputs": [],
   "source": [
    "# Creating a special column, assigning a 1 if the person died or a 0 if the person didn't died.\n",
    "df_null['DEAD'] = [2 if i=='9999-99-99' else 1 for i in df_null.DATE_DIED]"
   ]
  },
  {
   "cell_type": "code",
   "execution_count": 8,
   "id": "903786d0",
   "metadata": {},
   "outputs": [],
   "source": [
    "# Replacing each 9999-99-99 value for a null value (NaN)\n",
    "df_null['DATE_DIED'].replace('9999-99-99', np.nan, inplace = True)"
   ]
  },
  {
   "cell_type": "code",
   "execution_count": 9,
   "id": "d92c77c4",
   "metadata": {
    "scrolled": false
   },
   "outputs": [
    {
     "data": {
      "text/html": [
       "<div>\n",
       "<style scoped>\n",
       "    .dataframe tbody tr th:only-of-type {\n",
       "        vertical-align: middle;\n",
       "    }\n",
       "\n",
       "    .dataframe tbody tr th {\n",
       "        vertical-align: top;\n",
       "    }\n",
       "\n",
       "    .dataframe thead th {\n",
       "        text-align: right;\n",
       "    }\n",
       "</style>\n",
       "<table border=\"1\" class=\"dataframe\">\n",
       "  <thead>\n",
       "    <tr style=\"text-align: right;\">\n",
       "      <th></th>\n",
       "      <th>USMER</th>\n",
       "      <th>MEDICAL_UNIT</th>\n",
       "      <th>SEX</th>\n",
       "      <th>PATIENT_TYPE</th>\n",
       "      <th>DATE_DIED</th>\n",
       "      <th>INTUBED</th>\n",
       "      <th>PNEUMONIA</th>\n",
       "      <th>AGE</th>\n",
       "      <th>PREGNANT</th>\n",
       "      <th>DIABETES</th>\n",
       "      <th>...</th>\n",
       "      <th>INMSUPR</th>\n",
       "      <th>HIPERTENSION</th>\n",
       "      <th>OTHER_DISEASE</th>\n",
       "      <th>CARDIOVASCULAR</th>\n",
       "      <th>OBESITY</th>\n",
       "      <th>RENAL_CHRONIC</th>\n",
       "      <th>TOBACCO</th>\n",
       "      <th>CLASIFFICATION_FINAL</th>\n",
       "      <th>ICU</th>\n",
       "      <th>DEAD</th>\n",
       "    </tr>\n",
       "  </thead>\n",
       "  <tbody>\n",
       "    <tr>\n",
       "      <th>0</th>\n",
       "      <td>2</td>\n",
       "      <td>1</td>\n",
       "      <td>1</td>\n",
       "      <td>1</td>\n",
       "      <td>03/05/2020</td>\n",
       "      <td>NaN</td>\n",
       "      <td>1.0</td>\n",
       "      <td>65.0</td>\n",
       "      <td>2.0</td>\n",
       "      <td>2.0</td>\n",
       "      <td>...</td>\n",
       "      <td>2.0</td>\n",
       "      <td>1.0</td>\n",
       "      <td>2.0</td>\n",
       "      <td>2.0</td>\n",
       "      <td>2.0</td>\n",
       "      <td>2.0</td>\n",
       "      <td>2.0</td>\n",
       "      <td>3</td>\n",
       "      <td>NaN</td>\n",
       "      <td>1</td>\n",
       "    </tr>\n",
       "    <tr>\n",
       "      <th>1</th>\n",
       "      <td>2</td>\n",
       "      <td>1</td>\n",
       "      <td>2</td>\n",
       "      <td>1</td>\n",
       "      <td>03/06/2020</td>\n",
       "      <td>NaN</td>\n",
       "      <td>1.0</td>\n",
       "      <td>72.0</td>\n",
       "      <td>NaN</td>\n",
       "      <td>2.0</td>\n",
       "      <td>...</td>\n",
       "      <td>2.0</td>\n",
       "      <td>1.0</td>\n",
       "      <td>2.0</td>\n",
       "      <td>2.0</td>\n",
       "      <td>1.0</td>\n",
       "      <td>1.0</td>\n",
       "      <td>2.0</td>\n",
       "      <td>5</td>\n",
       "      <td>NaN</td>\n",
       "      <td>1</td>\n",
       "    </tr>\n",
       "    <tr>\n",
       "      <th>2</th>\n",
       "      <td>2</td>\n",
       "      <td>1</td>\n",
       "      <td>2</td>\n",
       "      <td>2</td>\n",
       "      <td>09/06/2020</td>\n",
       "      <td>1.0</td>\n",
       "      <td>2.0</td>\n",
       "      <td>55.0</td>\n",
       "      <td>NaN</td>\n",
       "      <td>1.0</td>\n",
       "      <td>...</td>\n",
       "      <td>2.0</td>\n",
       "      <td>2.0</td>\n",
       "      <td>2.0</td>\n",
       "      <td>2.0</td>\n",
       "      <td>2.0</td>\n",
       "      <td>2.0</td>\n",
       "      <td>2.0</td>\n",
       "      <td>3</td>\n",
       "      <td>2.0</td>\n",
       "      <td>1</td>\n",
       "    </tr>\n",
       "    <tr>\n",
       "      <th>3</th>\n",
       "      <td>2</td>\n",
       "      <td>1</td>\n",
       "      <td>1</td>\n",
       "      <td>1</td>\n",
       "      <td>12/06/2020</td>\n",
       "      <td>NaN</td>\n",
       "      <td>2.0</td>\n",
       "      <td>53.0</td>\n",
       "      <td>2.0</td>\n",
       "      <td>2.0</td>\n",
       "      <td>...</td>\n",
       "      <td>2.0</td>\n",
       "      <td>2.0</td>\n",
       "      <td>2.0</td>\n",
       "      <td>2.0</td>\n",
       "      <td>2.0</td>\n",
       "      <td>2.0</td>\n",
       "      <td>2.0</td>\n",
       "      <td>7</td>\n",
       "      <td>NaN</td>\n",
       "      <td>1</td>\n",
       "    </tr>\n",
       "    <tr>\n",
       "      <th>4</th>\n",
       "      <td>2</td>\n",
       "      <td>1</td>\n",
       "      <td>2</td>\n",
       "      <td>1</td>\n",
       "      <td>21/06/2020</td>\n",
       "      <td>NaN</td>\n",
       "      <td>2.0</td>\n",
       "      <td>68.0</td>\n",
       "      <td>NaN</td>\n",
       "      <td>1.0</td>\n",
       "      <td>...</td>\n",
       "      <td>2.0</td>\n",
       "      <td>1.0</td>\n",
       "      <td>2.0</td>\n",
       "      <td>2.0</td>\n",
       "      <td>2.0</td>\n",
       "      <td>2.0</td>\n",
       "      <td>2.0</td>\n",
       "      <td>3</td>\n",
       "      <td>NaN</td>\n",
       "      <td>1</td>\n",
       "    </tr>\n",
       "    <tr>\n",
       "      <th>...</th>\n",
       "      <td>...</td>\n",
       "      <td>...</td>\n",
       "      <td>...</td>\n",
       "      <td>...</td>\n",
       "      <td>...</td>\n",
       "      <td>...</td>\n",
       "      <td>...</td>\n",
       "      <td>...</td>\n",
       "      <td>...</td>\n",
       "      <td>...</td>\n",
       "      <td>...</td>\n",
       "      <td>...</td>\n",
       "      <td>...</td>\n",
       "      <td>...</td>\n",
       "      <td>...</td>\n",
       "      <td>...</td>\n",
       "      <td>...</td>\n",
       "      <td>...</td>\n",
       "      <td>...</td>\n",
       "      <td>...</td>\n",
       "      <td>...</td>\n",
       "    </tr>\n",
       "    <tr>\n",
       "      <th>1048570</th>\n",
       "      <td>2</td>\n",
       "      <td>13</td>\n",
       "      <td>2</td>\n",
       "      <td>1</td>\n",
       "      <td>NaN</td>\n",
       "      <td>NaN</td>\n",
       "      <td>2.0</td>\n",
       "      <td>40.0</td>\n",
       "      <td>NaN</td>\n",
       "      <td>2.0</td>\n",
       "      <td>...</td>\n",
       "      <td>2.0</td>\n",
       "      <td>2.0</td>\n",
       "      <td>2.0</td>\n",
       "      <td>2.0</td>\n",
       "      <td>2.0</td>\n",
       "      <td>2.0</td>\n",
       "      <td>2.0</td>\n",
       "      <td>7</td>\n",
       "      <td>NaN</td>\n",
       "      <td>2</td>\n",
       "    </tr>\n",
       "    <tr>\n",
       "      <th>1048571</th>\n",
       "      <td>1</td>\n",
       "      <td>13</td>\n",
       "      <td>2</td>\n",
       "      <td>2</td>\n",
       "      <td>NaN</td>\n",
       "      <td>2.0</td>\n",
       "      <td>2.0</td>\n",
       "      <td>51.0</td>\n",
       "      <td>NaN</td>\n",
       "      <td>2.0</td>\n",
       "      <td>...</td>\n",
       "      <td>2.0</td>\n",
       "      <td>1.0</td>\n",
       "      <td>2.0</td>\n",
       "      <td>2.0</td>\n",
       "      <td>2.0</td>\n",
       "      <td>2.0</td>\n",
       "      <td>2.0</td>\n",
       "      <td>7</td>\n",
       "      <td>2.0</td>\n",
       "      <td>2</td>\n",
       "    </tr>\n",
       "    <tr>\n",
       "      <th>1048572</th>\n",
       "      <td>2</td>\n",
       "      <td>13</td>\n",
       "      <td>2</td>\n",
       "      <td>1</td>\n",
       "      <td>NaN</td>\n",
       "      <td>NaN</td>\n",
       "      <td>2.0</td>\n",
       "      <td>55.0</td>\n",
       "      <td>NaN</td>\n",
       "      <td>2.0</td>\n",
       "      <td>...</td>\n",
       "      <td>2.0</td>\n",
       "      <td>2.0</td>\n",
       "      <td>2.0</td>\n",
       "      <td>2.0</td>\n",
       "      <td>2.0</td>\n",
       "      <td>2.0</td>\n",
       "      <td>2.0</td>\n",
       "      <td>7</td>\n",
       "      <td>NaN</td>\n",
       "      <td>2</td>\n",
       "    </tr>\n",
       "    <tr>\n",
       "      <th>1048573</th>\n",
       "      <td>2</td>\n",
       "      <td>13</td>\n",
       "      <td>2</td>\n",
       "      <td>1</td>\n",
       "      <td>NaN</td>\n",
       "      <td>NaN</td>\n",
       "      <td>2.0</td>\n",
       "      <td>28.0</td>\n",
       "      <td>NaN</td>\n",
       "      <td>2.0</td>\n",
       "      <td>...</td>\n",
       "      <td>2.0</td>\n",
       "      <td>2.0</td>\n",
       "      <td>2.0</td>\n",
       "      <td>2.0</td>\n",
       "      <td>2.0</td>\n",
       "      <td>2.0</td>\n",
       "      <td>2.0</td>\n",
       "      <td>7</td>\n",
       "      <td>NaN</td>\n",
       "      <td>2</td>\n",
       "    </tr>\n",
       "    <tr>\n",
       "      <th>1048574</th>\n",
       "      <td>2</td>\n",
       "      <td>13</td>\n",
       "      <td>2</td>\n",
       "      <td>1</td>\n",
       "      <td>NaN</td>\n",
       "      <td>NaN</td>\n",
       "      <td>2.0</td>\n",
       "      <td>52.0</td>\n",
       "      <td>NaN</td>\n",
       "      <td>2.0</td>\n",
       "      <td>...</td>\n",
       "      <td>2.0</td>\n",
       "      <td>2.0</td>\n",
       "      <td>2.0</td>\n",
       "      <td>2.0</td>\n",
       "      <td>2.0</td>\n",
       "      <td>2.0</td>\n",
       "      <td>2.0</td>\n",
       "      <td>7</td>\n",
       "      <td>NaN</td>\n",
       "      <td>2</td>\n",
       "    </tr>\n",
       "  </tbody>\n",
       "</table>\n",
       "<p>1048575 rows × 22 columns</p>\n",
       "</div>"
      ],
      "text/plain": [
       "         USMER  MEDICAL_UNIT  SEX  PATIENT_TYPE   DATE_DIED  INTUBED  \\\n",
       "0            2             1    1             1  03/05/2020      NaN   \n",
       "1            2             1    2             1  03/06/2020      NaN   \n",
       "2            2             1    2             2  09/06/2020      1.0   \n",
       "3            2             1    1             1  12/06/2020      NaN   \n",
       "4            2             1    2             1  21/06/2020      NaN   \n",
       "...        ...           ...  ...           ...         ...      ...   \n",
       "1048570      2            13    2             1         NaN      NaN   \n",
       "1048571      1            13    2             2         NaN      2.0   \n",
       "1048572      2            13    2             1         NaN      NaN   \n",
       "1048573      2            13    2             1         NaN      NaN   \n",
       "1048574      2            13    2             1         NaN      NaN   \n",
       "\n",
       "         PNEUMONIA   AGE  PREGNANT  DIABETES  ...  INMSUPR  HIPERTENSION  \\\n",
       "0              1.0  65.0       2.0       2.0  ...      2.0           1.0   \n",
       "1              1.0  72.0       NaN       2.0  ...      2.0           1.0   \n",
       "2              2.0  55.0       NaN       1.0  ...      2.0           2.0   \n",
       "3              2.0  53.0       2.0       2.0  ...      2.0           2.0   \n",
       "4              2.0  68.0       NaN       1.0  ...      2.0           1.0   \n",
       "...            ...   ...       ...       ...  ...      ...           ...   \n",
       "1048570        2.0  40.0       NaN       2.0  ...      2.0           2.0   \n",
       "1048571        2.0  51.0       NaN       2.0  ...      2.0           1.0   \n",
       "1048572        2.0  55.0       NaN       2.0  ...      2.0           2.0   \n",
       "1048573        2.0  28.0       NaN       2.0  ...      2.0           2.0   \n",
       "1048574        2.0  52.0       NaN       2.0  ...      2.0           2.0   \n",
       "\n",
       "         OTHER_DISEASE  CARDIOVASCULAR  OBESITY  RENAL_CHRONIC  TOBACCO  \\\n",
       "0                  2.0             2.0      2.0            2.0      2.0   \n",
       "1                  2.0             2.0      1.0            1.0      2.0   \n",
       "2                  2.0             2.0      2.0            2.0      2.0   \n",
       "3                  2.0             2.0      2.0            2.0      2.0   \n",
       "4                  2.0             2.0      2.0            2.0      2.0   \n",
       "...                ...             ...      ...            ...      ...   \n",
       "1048570            2.0             2.0      2.0            2.0      2.0   \n",
       "1048571            2.0             2.0      2.0            2.0      2.0   \n",
       "1048572            2.0             2.0      2.0            2.0      2.0   \n",
       "1048573            2.0             2.0      2.0            2.0      2.0   \n",
       "1048574            2.0             2.0      2.0            2.0      2.0   \n",
       "\n",
       "         CLASIFFICATION_FINAL  ICU  DEAD  \n",
       "0                           3  NaN     1  \n",
       "1                           5  NaN     1  \n",
       "2                           3  2.0     1  \n",
       "3                           7  NaN     1  \n",
       "4                           3  NaN     1  \n",
       "...                       ...  ...   ...  \n",
       "1048570                     7  NaN     2  \n",
       "1048571                     7  2.0     2  \n",
       "1048572                     7  NaN     2  \n",
       "1048573                     7  NaN     2  \n",
       "1048574                     7  NaN     2  \n",
       "\n",
       "[1048575 rows x 22 columns]"
      ]
     },
     "execution_count": 9,
     "metadata": {},
     "output_type": "execute_result"
    }
   ],
   "source": [
    "# The new df_null dataset\n",
    "df_null"
   ]
  },
  {
   "cell_type": "markdown",
   "id": "cca78f7a",
   "metadata": {},
   "source": [
    "### Cleaning up the classification of contagions"
   ]
  },
  {
   "cell_type": "code",
   "execution_count": 10,
   "id": "fb2f084e",
   "metadata": {},
   "outputs": [],
   "source": [
    "# We make a function to evaluate whether or not patients were detected with Covid, adding a column to locate them more easily.\n",
    "def Covid_Not_Covid(val):\n",
    "    if val >= 4:\n",
    "        return 2\n",
    "    else:\n",
    "        return 1"
   ]
  },
  {
   "cell_type": "code",
   "execution_count": 11,
   "id": "c838996d",
   "metadata": {},
   "outputs": [],
   "source": [
    "# We create a new column to show the result of the application of the function created above.\n",
    "df_null['Covid_Not_Covid'] = df_null[\"CLASIFFICATION_FINAL\"].apply(Covid_Not_Covid)"
   ]
  },
  {
   "cell_type": "code",
   "execution_count": 12,
   "id": "ee5e5de5",
   "metadata": {},
   "outputs": [
    {
     "data": {
      "text/html": [
       "<div>\n",
       "<style scoped>\n",
       "    .dataframe tbody tr th:only-of-type {\n",
       "        vertical-align: middle;\n",
       "    }\n",
       "\n",
       "    .dataframe tbody tr th {\n",
       "        vertical-align: top;\n",
       "    }\n",
       "\n",
       "    .dataframe thead th {\n",
       "        text-align: right;\n",
       "    }\n",
       "</style>\n",
       "<table border=\"1\" class=\"dataframe\">\n",
       "  <thead>\n",
       "    <tr style=\"text-align: right;\">\n",
       "      <th></th>\n",
       "      <th>USMER</th>\n",
       "      <th>MEDICAL_UNIT</th>\n",
       "      <th>SEX</th>\n",
       "      <th>PATIENT_TYPE</th>\n",
       "      <th>DATE_DIED</th>\n",
       "      <th>INTUBED</th>\n",
       "      <th>PNEUMONIA</th>\n",
       "      <th>AGE</th>\n",
       "      <th>PREGNANT</th>\n",
       "      <th>DIABETES</th>\n",
       "      <th>...</th>\n",
       "      <th>HIPERTENSION</th>\n",
       "      <th>OTHER_DISEASE</th>\n",
       "      <th>CARDIOVASCULAR</th>\n",
       "      <th>OBESITY</th>\n",
       "      <th>RENAL_CHRONIC</th>\n",
       "      <th>TOBACCO</th>\n",
       "      <th>CLASIFFICATION_FINAL</th>\n",
       "      <th>ICU</th>\n",
       "      <th>DEAD</th>\n",
       "      <th>Covid_Not_Covid</th>\n",
       "    </tr>\n",
       "  </thead>\n",
       "  <tbody>\n",
       "    <tr>\n",
       "      <th>0</th>\n",
       "      <td>2</td>\n",
       "      <td>1</td>\n",
       "      <td>1</td>\n",
       "      <td>1</td>\n",
       "      <td>03/05/2020</td>\n",
       "      <td>NaN</td>\n",
       "      <td>1.0</td>\n",
       "      <td>65.0</td>\n",
       "      <td>2.0</td>\n",
       "      <td>2.0</td>\n",
       "      <td>...</td>\n",
       "      <td>1.0</td>\n",
       "      <td>2.0</td>\n",
       "      <td>2.0</td>\n",
       "      <td>2.0</td>\n",
       "      <td>2.0</td>\n",
       "      <td>2.0</td>\n",
       "      <td>3</td>\n",
       "      <td>NaN</td>\n",
       "      <td>1</td>\n",
       "      <td>1</td>\n",
       "    </tr>\n",
       "    <tr>\n",
       "      <th>1</th>\n",
       "      <td>2</td>\n",
       "      <td>1</td>\n",
       "      <td>2</td>\n",
       "      <td>1</td>\n",
       "      <td>03/06/2020</td>\n",
       "      <td>NaN</td>\n",
       "      <td>1.0</td>\n",
       "      <td>72.0</td>\n",
       "      <td>NaN</td>\n",
       "      <td>2.0</td>\n",
       "      <td>...</td>\n",
       "      <td>1.0</td>\n",
       "      <td>2.0</td>\n",
       "      <td>2.0</td>\n",
       "      <td>1.0</td>\n",
       "      <td>1.0</td>\n",
       "      <td>2.0</td>\n",
       "      <td>5</td>\n",
       "      <td>NaN</td>\n",
       "      <td>1</td>\n",
       "      <td>2</td>\n",
       "    </tr>\n",
       "    <tr>\n",
       "      <th>2</th>\n",
       "      <td>2</td>\n",
       "      <td>1</td>\n",
       "      <td>2</td>\n",
       "      <td>2</td>\n",
       "      <td>09/06/2020</td>\n",
       "      <td>1.0</td>\n",
       "      <td>2.0</td>\n",
       "      <td>55.0</td>\n",
       "      <td>NaN</td>\n",
       "      <td>1.0</td>\n",
       "      <td>...</td>\n",
       "      <td>2.0</td>\n",
       "      <td>2.0</td>\n",
       "      <td>2.0</td>\n",
       "      <td>2.0</td>\n",
       "      <td>2.0</td>\n",
       "      <td>2.0</td>\n",
       "      <td>3</td>\n",
       "      <td>2.0</td>\n",
       "      <td>1</td>\n",
       "      <td>1</td>\n",
       "    </tr>\n",
       "    <tr>\n",
       "      <th>3</th>\n",
       "      <td>2</td>\n",
       "      <td>1</td>\n",
       "      <td>1</td>\n",
       "      <td>1</td>\n",
       "      <td>12/06/2020</td>\n",
       "      <td>NaN</td>\n",
       "      <td>2.0</td>\n",
       "      <td>53.0</td>\n",
       "      <td>2.0</td>\n",
       "      <td>2.0</td>\n",
       "      <td>...</td>\n",
       "      <td>2.0</td>\n",
       "      <td>2.0</td>\n",
       "      <td>2.0</td>\n",
       "      <td>2.0</td>\n",
       "      <td>2.0</td>\n",
       "      <td>2.0</td>\n",
       "      <td>7</td>\n",
       "      <td>NaN</td>\n",
       "      <td>1</td>\n",
       "      <td>2</td>\n",
       "    </tr>\n",
       "    <tr>\n",
       "      <th>4</th>\n",
       "      <td>2</td>\n",
       "      <td>1</td>\n",
       "      <td>2</td>\n",
       "      <td>1</td>\n",
       "      <td>21/06/2020</td>\n",
       "      <td>NaN</td>\n",
       "      <td>2.0</td>\n",
       "      <td>68.0</td>\n",
       "      <td>NaN</td>\n",
       "      <td>1.0</td>\n",
       "      <td>...</td>\n",
       "      <td>1.0</td>\n",
       "      <td>2.0</td>\n",
       "      <td>2.0</td>\n",
       "      <td>2.0</td>\n",
       "      <td>2.0</td>\n",
       "      <td>2.0</td>\n",
       "      <td>3</td>\n",
       "      <td>NaN</td>\n",
       "      <td>1</td>\n",
       "      <td>1</td>\n",
       "    </tr>\n",
       "    <tr>\n",
       "      <th>...</th>\n",
       "      <td>...</td>\n",
       "      <td>...</td>\n",
       "      <td>...</td>\n",
       "      <td>...</td>\n",
       "      <td>...</td>\n",
       "      <td>...</td>\n",
       "      <td>...</td>\n",
       "      <td>...</td>\n",
       "      <td>...</td>\n",
       "      <td>...</td>\n",
       "      <td>...</td>\n",
       "      <td>...</td>\n",
       "      <td>...</td>\n",
       "      <td>...</td>\n",
       "      <td>...</td>\n",
       "      <td>...</td>\n",
       "      <td>...</td>\n",
       "      <td>...</td>\n",
       "      <td>...</td>\n",
       "      <td>...</td>\n",
       "      <td>...</td>\n",
       "    </tr>\n",
       "    <tr>\n",
       "      <th>1048570</th>\n",
       "      <td>2</td>\n",
       "      <td>13</td>\n",
       "      <td>2</td>\n",
       "      <td>1</td>\n",
       "      <td>NaN</td>\n",
       "      <td>NaN</td>\n",
       "      <td>2.0</td>\n",
       "      <td>40.0</td>\n",
       "      <td>NaN</td>\n",
       "      <td>2.0</td>\n",
       "      <td>...</td>\n",
       "      <td>2.0</td>\n",
       "      <td>2.0</td>\n",
       "      <td>2.0</td>\n",
       "      <td>2.0</td>\n",
       "      <td>2.0</td>\n",
       "      <td>2.0</td>\n",
       "      <td>7</td>\n",
       "      <td>NaN</td>\n",
       "      <td>2</td>\n",
       "      <td>2</td>\n",
       "    </tr>\n",
       "    <tr>\n",
       "      <th>1048571</th>\n",
       "      <td>1</td>\n",
       "      <td>13</td>\n",
       "      <td>2</td>\n",
       "      <td>2</td>\n",
       "      <td>NaN</td>\n",
       "      <td>2.0</td>\n",
       "      <td>2.0</td>\n",
       "      <td>51.0</td>\n",
       "      <td>NaN</td>\n",
       "      <td>2.0</td>\n",
       "      <td>...</td>\n",
       "      <td>1.0</td>\n",
       "      <td>2.0</td>\n",
       "      <td>2.0</td>\n",
       "      <td>2.0</td>\n",
       "      <td>2.0</td>\n",
       "      <td>2.0</td>\n",
       "      <td>7</td>\n",
       "      <td>2.0</td>\n",
       "      <td>2</td>\n",
       "      <td>2</td>\n",
       "    </tr>\n",
       "    <tr>\n",
       "      <th>1048572</th>\n",
       "      <td>2</td>\n",
       "      <td>13</td>\n",
       "      <td>2</td>\n",
       "      <td>1</td>\n",
       "      <td>NaN</td>\n",
       "      <td>NaN</td>\n",
       "      <td>2.0</td>\n",
       "      <td>55.0</td>\n",
       "      <td>NaN</td>\n",
       "      <td>2.0</td>\n",
       "      <td>...</td>\n",
       "      <td>2.0</td>\n",
       "      <td>2.0</td>\n",
       "      <td>2.0</td>\n",
       "      <td>2.0</td>\n",
       "      <td>2.0</td>\n",
       "      <td>2.0</td>\n",
       "      <td>7</td>\n",
       "      <td>NaN</td>\n",
       "      <td>2</td>\n",
       "      <td>2</td>\n",
       "    </tr>\n",
       "    <tr>\n",
       "      <th>1048573</th>\n",
       "      <td>2</td>\n",
       "      <td>13</td>\n",
       "      <td>2</td>\n",
       "      <td>1</td>\n",
       "      <td>NaN</td>\n",
       "      <td>NaN</td>\n",
       "      <td>2.0</td>\n",
       "      <td>28.0</td>\n",
       "      <td>NaN</td>\n",
       "      <td>2.0</td>\n",
       "      <td>...</td>\n",
       "      <td>2.0</td>\n",
       "      <td>2.0</td>\n",
       "      <td>2.0</td>\n",
       "      <td>2.0</td>\n",
       "      <td>2.0</td>\n",
       "      <td>2.0</td>\n",
       "      <td>7</td>\n",
       "      <td>NaN</td>\n",
       "      <td>2</td>\n",
       "      <td>2</td>\n",
       "    </tr>\n",
       "    <tr>\n",
       "      <th>1048574</th>\n",
       "      <td>2</td>\n",
       "      <td>13</td>\n",
       "      <td>2</td>\n",
       "      <td>1</td>\n",
       "      <td>NaN</td>\n",
       "      <td>NaN</td>\n",
       "      <td>2.0</td>\n",
       "      <td>52.0</td>\n",
       "      <td>NaN</td>\n",
       "      <td>2.0</td>\n",
       "      <td>...</td>\n",
       "      <td>2.0</td>\n",
       "      <td>2.0</td>\n",
       "      <td>2.0</td>\n",
       "      <td>2.0</td>\n",
       "      <td>2.0</td>\n",
       "      <td>2.0</td>\n",
       "      <td>7</td>\n",
       "      <td>NaN</td>\n",
       "      <td>2</td>\n",
       "      <td>2</td>\n",
       "    </tr>\n",
       "  </tbody>\n",
       "</table>\n",
       "<p>1048575 rows × 23 columns</p>\n",
       "</div>"
      ],
      "text/plain": [
       "         USMER  MEDICAL_UNIT  SEX  PATIENT_TYPE   DATE_DIED  INTUBED  \\\n",
       "0            2             1    1             1  03/05/2020      NaN   \n",
       "1            2             1    2             1  03/06/2020      NaN   \n",
       "2            2             1    2             2  09/06/2020      1.0   \n",
       "3            2             1    1             1  12/06/2020      NaN   \n",
       "4            2             1    2             1  21/06/2020      NaN   \n",
       "...        ...           ...  ...           ...         ...      ...   \n",
       "1048570      2            13    2             1         NaN      NaN   \n",
       "1048571      1            13    2             2         NaN      2.0   \n",
       "1048572      2            13    2             1         NaN      NaN   \n",
       "1048573      2            13    2             1         NaN      NaN   \n",
       "1048574      2            13    2             1         NaN      NaN   \n",
       "\n",
       "         PNEUMONIA   AGE  PREGNANT  DIABETES  ...  HIPERTENSION  \\\n",
       "0              1.0  65.0       2.0       2.0  ...           1.0   \n",
       "1              1.0  72.0       NaN       2.0  ...           1.0   \n",
       "2              2.0  55.0       NaN       1.0  ...           2.0   \n",
       "3              2.0  53.0       2.0       2.0  ...           2.0   \n",
       "4              2.0  68.0       NaN       1.0  ...           1.0   \n",
       "...            ...   ...       ...       ...  ...           ...   \n",
       "1048570        2.0  40.0       NaN       2.0  ...           2.0   \n",
       "1048571        2.0  51.0       NaN       2.0  ...           1.0   \n",
       "1048572        2.0  55.0       NaN       2.0  ...           2.0   \n",
       "1048573        2.0  28.0       NaN       2.0  ...           2.0   \n",
       "1048574        2.0  52.0       NaN       2.0  ...           2.0   \n",
       "\n",
       "         OTHER_DISEASE  CARDIOVASCULAR  OBESITY  RENAL_CHRONIC  TOBACCO  \\\n",
       "0                  2.0             2.0      2.0            2.0      2.0   \n",
       "1                  2.0             2.0      1.0            1.0      2.0   \n",
       "2                  2.0             2.0      2.0            2.0      2.0   \n",
       "3                  2.0             2.0      2.0            2.0      2.0   \n",
       "4                  2.0             2.0      2.0            2.0      2.0   \n",
       "...                ...             ...      ...            ...      ...   \n",
       "1048570            2.0             2.0      2.0            2.0      2.0   \n",
       "1048571            2.0             2.0      2.0            2.0      2.0   \n",
       "1048572            2.0             2.0      2.0            2.0      2.0   \n",
       "1048573            2.0             2.0      2.0            2.0      2.0   \n",
       "1048574            2.0             2.0      2.0            2.0      2.0   \n",
       "\n",
       "         CLASIFFICATION_FINAL  ICU  DEAD  Covid_Not_Covid  \n",
       "0                           3  NaN     1                1  \n",
       "1                           5  NaN     1                2  \n",
       "2                           3  2.0     1                1  \n",
       "3                           7  NaN     1                2  \n",
       "4                           3  NaN     1                1  \n",
       "...                       ...  ...   ...              ...  \n",
       "1048570                     7  NaN     2                2  \n",
       "1048571                     7  2.0     2                2  \n",
       "1048572                     7  NaN     2                2  \n",
       "1048573                     7  NaN     2                2  \n",
       "1048574                     7  NaN     2                2  \n",
       "\n",
       "[1048575 rows x 23 columns]"
      ]
     },
     "execution_count": 12,
     "metadata": {},
     "output_type": "execute_result"
    }
   ],
   "source": [
    "# The new df_null dataset\n",
    "df_null"
   ]
  },
  {
   "cell_type": "markdown",
   "id": "89ea5b70",
   "metadata": {},
   "source": [
    "<hr style=\"border: 1px solid black;\">"
   ]
  },
  {
   "cell_type": "markdown",
   "id": "56fbdfc3",
   "metadata": {},
   "source": [
    "# MOSCOW Part"
   ]
  },
  {
   "cell_type": "markdown",
   "id": "084cbcba",
   "metadata": {},
   "source": [
    "## Promedio de edad de personas infectadas"
   ]
  },
  {
   "cell_type": "code",
   "execution_count": null,
   "id": "45681987",
   "metadata": {},
   "outputs": [],
   "source": []
  },
  {
   "cell_type": "markdown",
   "id": "f734d833",
   "metadata": {},
   "source": [
    "<hr style=\"border: 1px solid black;\">"
   ]
  },
  {
   "cell_type": "markdown",
   "id": "e51b759a",
   "metadata": {},
   "source": [
    "## Cantidad de pacientes que murieron, porcentaje de edad"
   ]
  },
  {
   "cell_type": "code",
   "execution_count": null,
   "id": "4b9aa6df",
   "metadata": {},
   "outputs": [],
   "source": []
  },
  {
   "cell_type": "markdown",
   "id": "f979b631",
   "metadata": {},
   "source": [
    "<hr style=\"border: 1px solid black;\">"
   ]
  },
  {
   "cell_type": "markdown",
   "id": "6a60acfc",
   "metadata": {},
   "source": [
    "## Tasa de fallecimiento por condición de riesgo"
   ]
  },
  {
   "cell_type": "code",
   "execution_count": null,
   "id": "f9c3474d",
   "metadata": {},
   "outputs": [],
   "source": []
  },
  {
   "cell_type": "markdown",
   "id": "118de441",
   "metadata": {},
   "source": [
    "<hr style=\"border: 1px solid black;\">"
   ]
  },
  {
   "cell_type": "markdown",
   "id": "eff58061",
   "metadata": {},
   "source": [
    "## Identificar la cantidad de casos positivos y el tipo de atención recibida"
   ]
  },
  {
   "cell_type": "code",
   "execution_count": 13,
   "id": "439a12bd",
   "metadata": {},
   "outputs": [
    {
     "data": {
      "image/png": "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\n",
      "text/plain": [
       "<Figure size 576x576 with 1 Axes>"
      ]
     },
     "metadata": {},
     "output_type": "display_data"
    }
   ],
   "source": [
    "#Evaluating the total number of positive and negatives cases.\n",
    "classification = np.array(df_null['CLASIFFICATION_FINAL']); #Array for storing 'CLASIFFICATION_FINAL' data.\n",
    "\n",
    "positive_tests = np.count_nonzero(classification <= 3) #Total of occurrence of numbers less than or equal to 3.\n",
    "negative_tests = np.count_nonzero(classification >= 4) #Total of occurrence of numbers grater than or equal to 4.\n",
    "total_cases = positive_tests + negative_tests\n",
    "\n",
    "#Pie chart showing the difference between positive and negative cases\n",
    "sizes = [positive_tests, negative_tests]\n",
    "labels = ['Pruebas Positivas', 'Pruebas Negativas']\n",
    "colors = ['#FFC100', '#10B900']\n",
    "\n",
    "plt.figure(figsize = (8,8))\n",
    "plt.title('Distribución de pruebas Positivas y Negativas', fontsize = 20)\n",
    "plt.pie(sizes, labels = labels, colors = colors, autopct = '%1.1f%%', textprops = {'fontsize':20, 'weight': 'bold'}, startangle = 90)\n",
    "plt.legend([f'Positivas: {positive_tests}', f'Negativas: {negative_tests}'], title = f'Pruebas: {total_cases}', loc = 'upper right')\n",
    "plt.show()"
   ]
  },
  {
   "cell_type": "code",
   "execution_count": 14,
   "id": "6122b9a1",
   "metadata": {},
   "outputs": [
    {
     "ename": "NameError",
     "evalue": "name 'total_positives' is not defined",
     "output_type": "error",
     "traceback": [
      "\u001b[1;31m---------------------------------------------------------------------------\u001b[0m",
      "\u001b[1;31mNameError\u001b[0m                                 Traceback (most recent call last)",
      "Input \u001b[1;32mIn [14]\u001b[0m, in \u001b[0;36m<cell line: 30>\u001b[1;34m()\u001b[0m\n\u001b[0;32m     31\u001b[0m     x_val \u001b[38;5;241m=\u001b[39m means\u001b[38;5;241m.\u001b[39mget_width()\n\u001b[0;32m     32\u001b[0m     y_val \u001b[38;5;241m=\u001b[39m means\u001b[38;5;241m.\u001b[39mget_height()\n\u001b[1;32m---> 33\u001b[0m     mean \u001b[38;5;241m=\u001b[39m (y_val \u001b[38;5;241m/\u001b[39m \u001b[43mtotal_positives\u001b[49m) \u001b[38;5;241m*\u001b[39m \u001b[38;5;241m100\u001b[39m\n\u001b[0;32m     34\u001b[0m     ax\u001b[38;5;241m.\u001b[39mtext(means\u001b[38;5;241m.\u001b[39mget_x() \u001b[38;5;241m+\u001b[39m x_val\u001b[38;5;241m/\u001b[39m\u001b[38;5;241m2\u001b[39m, y_val\u001b[38;5;241m/\u001b[39m\u001b[38;5;241m2\u001b[39m, \u001b[38;5;124mf\u001b[39m\u001b[38;5;124m'\u001b[39m\u001b[38;5;132;01m{\u001b[39;00mmean\u001b[38;5;132;01m:\u001b[39;00m\u001b[38;5;124m.1f\u001b[39m\u001b[38;5;132;01m}\u001b[39;00m\u001b[38;5;124m%\u001b[39m\u001b[38;5;124m'\u001b[39m, ha\u001b[38;5;241m=\u001b[39m\u001b[38;5;124m'\u001b[39m\u001b[38;5;124mcenter\u001b[39m\u001b[38;5;124m'\u001b[39m, va\u001b[38;5;241m=\u001b[39m\u001b[38;5;124m'\u001b[39m\u001b[38;5;124mcenter\u001b[39m\u001b[38;5;124m'\u001b[39m, fontsize \u001b[38;5;241m=\u001b[39m \u001b[38;5;241m20\u001b[39m)\n\u001b[0;32m     37\u001b[0m \u001b[38;5;66;03m#Adding labels and designs to the chart\u001b[39;00m\n",
      "\u001b[1;31mNameError\u001b[0m: name 'total_positives' is not defined"
     ]
    },
    {
     "data": {
      "image/png": "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\n",
      "text/plain": [
       "<Figure size 576x432 with 1 Axes>"
      ]
     },
     "metadata": {
      "needs_background": "light"
     },
     "output_type": "display_data"
    }
   ],
   "source": [
    "#Atenttion type received by positive cases.\n",
    "positive_cases = df_null[df_null['CLASIFFICATION_FINAL'] <= 3] #Filter positive cases.\n",
    "\n",
    "#Occurrences per patient.\n",
    "attention_counts = positive_cases['PATIENT_TYPE'].value_counts()\n",
    "\n",
    "#Assign a label and show the results\n",
    "if 1 in attention_counts.index:\n",
    "    patient_type_home = attention_counts[1]\n",
    "\n",
    "if 2 in attention_counts.index:\n",
    "    patient_type_hospitalized = attention_counts[2]\n",
    "\n",
    "#Graph to show the difference between people who went home and those who were hospitalized.\n",
    "fruits = ['Regresaron a casa', 'Fueron hospitalizados']\n",
    "counts = [patient_type_home, patient_type_hospitalized]\n",
    "bar_labels = ['Volvieron a casa', 'Fueron hospitalizados']\n",
    "bar_colors = ['#708BF1', '#E11F00']\n",
    "\n",
    "fig, ax = plt.subplots(figsize = (8,6))\n",
    "bars = ax.bar(fruits, counts, label=bar_labels, color=bar_colors)\n",
    "\n",
    "#Show the occurrences on the bars.\n",
    "for bar in bars:\n",
    "    x_val = bar.get_x() + bar.get_width() / 2\n",
    "    y_val = bar.get_height()\n",
    "    ax.text(x_val, y_val, f'{y_val}', ha='center', va='bottom', fontsize = 13)\n",
    "\n",
    "#Show the mean of each selection inside the bars.\n",
    "for means in bars:\n",
    "    x_val = means.get_width()\n",
    "    y_val = means.get_height()\n",
    "    mean = (y_val / total_positives) * 100\n",
    "    ax.text(means.get_x() + x_val/2, y_val/2, f'{mean:.1f}%', ha='center', va='center', fontsize = 20)\n",
    "\n",
    "\n",
    "#Adding labels and designs to the chart\n",
    "ax.set_ylabel('Número de Pacientes', fontsize = 15)\n",
    "ax.set_title('Atención recibida por casos positivos', fontsize = 20)\n",
    "ax.legend(title = 'Tipo de Paciente')\n",
    "ax.tick_params(axis='x', labelsize=15)\n",
    "plt.show()"
   ]
  },
  {
   "cell_type": "code",
   "execution_count": null,
   "id": "79ee5597",
   "metadata": {},
   "outputs": [],
   "source": [
    "#Show the percentage of infected patients who died.\n",
    "infected_who_died = df_null[(df_null['CLASIFFICATION_FINAL'] <= 3) & (df_null['DEAD'] == 1)]\n",
    "infected_who_died "
   ]
  },
  {
   "cell_type": "code",
<<<<<<< Updated upstream
=======
   "execution_count": 32,
   "id": "d03bd6b7",
   "metadata": {},
   "outputs": [
    {
     "data": {
      "image/png": "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",
      "text/plain": [
       "<Figure size 900x900 with 1 Axes>"
      ]
     },
     "metadata": {},
     "output_type": "display_data"
    }
   ],
   "source": [
    "#Save the total number of patients who were infected and died \n",
    "hospitalized_who_died = infected_who_died['PATIENT_TYPE'].value_counts()\n",
    "\n",
    "if 1 in hospitalized_who_died.index:\n",
    "    not_hospitalized_death = hospitalized_who_died[1]\n",
    "\n",
    "if 2 in hospitalized_who_died.index:\n",
    "    hospitalized_death = hospitalized_who_died[2]\n",
    "\n",
    "hospitalized_survived = patient_type_hospitalized - hospitalized_death\n",
    "#Pie chart to show the difference between hospitalized patient and hospitalized who died.\n",
    "sizes = [hospitalized_survived, hospitalized_death]\n",
    "labels = ['Hospitalizados supervivientes', 'Hospitalizados fallecidos']\n",
    "colors = ['#F1C670', '#DC70F1']\n",
    "\n",
    "plt.figure(figsize = (9,9))\n",
    "plt.title('Porcentaje de mortalidad de las personas hospitalizadas', fontsize = 20)\n",
    "plt.pie(sizes, labels = labels, colors = colors, autopct = '%1.1f%%', textprops = {'fontsize':20}, startangle = 90, explode=[0.02, 0.02])\n",
    "plt.legend([f'Supervivientes: {hospitalized_survived}', f'Fallecidos: {hospitalized_death}'], title = f'Hospitalizados: {patient_type_hospitalized}', loc = 'upper right')\n",
    "plt.show()"
   ]
  },
  {
   "cell_type": "code",
   "execution_count": 34,
   "id": "7e5d680b",
   "metadata": {},
   "outputs": [
    {
     "data": {
      "image/png": "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",
      "text/plain": [
       "<Figure size 900x900 with 1 Axes>"
      ]
     },
     "metadata": {},
     "output_type": "display_data"
    }
   ],
   "source": [
    "#Pie chart to show the difference between home patient and home who died.\n",
    "sizes = [patient_type_home, not_hospitalized_death]\n",
    "labels = ['Sobreviviente en casa', 'Fallecido en casa']\n",
    "colors = ['#7470F1', '#F1A770']\n",
    "\n",
    "home_survived = patient_type_home - not_hospitalized_death\n",
    "plt.figure(figsize = (9,9))\n",
    "plt.title('Porcentaje de mortalidad de personas en casa', fontsize = 20)\n",
    "plt.pie(sizes, labels = labels, colors = colors, autopct = '%1.1f%%', textprops = {'fontsize':20}, startangle = 50, explode=[0.02, 0.02])\n",
    "plt.legend([f'Supervivientes: {home_survived}', f'Fallecidos: {not_hospitalized_death}'], title = f'Hospitalizados: {patient_type_home}', loc = 'upper right')\n",
    "plt.show()"
   ]
  },
  {
   "cell_type": "markdown",
   "id": "297298aa",
   "metadata": {},
   "source": [
    "<h3>Conclusiones del apartado </h3>"
   ]
  },
  {
   "cell_type": "markdown",
   "id": "7c478cdc",
   "metadata": {},
   "source": [
    "- De un total de 1048575 de casos reportados, solo 391979 fueron diagnosticados con COVID-19 en diferentes grados, lo que significa que había una posibilidad de 37.4% de ser diagnosticado positivo y un 62.56% de ser diagnosticado como negativo.\n",
    "\n",
    "- De todos los casos diagnosticados como COVID-19 positivo, la probabilidad de que el paciente regresara a casa era de un 71.6%, dejando un margen mínimo de que el paciente necesitara ser hospitalizado para tratar la afección.\n",
    "\n",
    "- La probabilidad de que los pacientes hospitalizados fallecieran, era casi de un 50%, lo que nos permite identificar que el sesgo de supervivencia era mínimo y la distribución de estadísticas, era casi similar.\n",
    "\n",
    "- En cuanto a los pacientes que regresaron a casa, la tasa de mortalidad fue de 1.8%, dando como resultado una posibilidad de supervivencia mayoritaria.\n"
   ]
  },
  {
   "cell_type": "markdown",
   "id": "1505ccc0",
   "metadata": {},
   "source": [
    "<hr style=\"border: 1px solid black;\">"
   ]
  },
  {
   "cell_type": "markdown",
   "id": "8db9493b",
   "metadata": {},
   "source": [
    "## Total de casos detectados"
   ]
  },
  {
   "cell_type": "code",
>>>>>>> Stashed changes
   "execution_count": null,
   "id": "d03bd6b7",
   "metadata": {},
   "outputs": [],
   "source": [
    "#Save the total number of patients who were infected and died \n",
    "hospitalized_who_died = infected_who_died['PATIENT_TYPE'].value_counts()\n",
    "\n",
    "if 1 in hospitalized_who_died.index:\n",
    "    not_hospitalized_death = hospitalized_who_died[1]\n",
    "\n",
    "if 2 in hospitalized_who_died.index:\n",
    "    hospitalized_death = hospitalized_who_died[2]\n",
    "\n",
    "hospitalized_survived = patient_type_hospitalized - hospitalized_death\n",
    "#Pie chart to show the difference between hospitalized patient and hospitalized who died.\n",
    "sizes = [hospitalized_survived, hospitalized_death]\n",
    "labels = ['Hospitalizados supervivientes', 'Hospitalizados fallecidos']\n",
    "colors = ['#F1C670', '#DC70F1']\n",
    "\n",
    "plt.figure(figsize = (9,9))\n",
    "plt.title('Porcentaje de mortalidad de las personas hospitalizadas', fontsize = 20)\n",
    "plt.pie(sizes, labels = labels, colors = colors, autopct = '%1.1f%%', textprops = {'fontsize':20}, startangle = 90, explode=[0.02, 0.02])\n",
    "plt.legend([f'Supervivientes: {hospitalized_survived}', f'Fallecidos: {hospitalized_death}'], title = f'Hospitalizados: {patient_type_hospitalized}', loc = 'upper right')\n",
    "plt.show()"
   ]
  },
  {
   "cell_type": "code",
   "execution_count": null,
   "id": "fb27a6b4",
   "metadata": {},
   "outputs": [],
   "source": [
    "#Pie chart to show the difference between home patient and home who died.\n",
    "sizes = [patient_type_home, not_hospitalized_death]\n",
    "labels = ['Sobreviviente en casa', 'Fallecido en casa']\n",
    "colors = ['#7470F1', '#F1A770']\n",
    "\n",
    "home_survived = patient_type_home - not_hospitalized_death\n",
    "plt.figure(figsize = (9,9))\n",
    "plt.title('Porcentaje de mortalidad de personas en casa', fontsize = 20)\n",
    "plt.pie(sizes, labels = labels, colors = colors, autopct = '%1.1f%%', textprops = {'fontsize':20}, startangle = 50, explode=[0.02, 0.02])\n",
    "plt.legend([f'Supervivientes: {home_survived}', f'Fallecidos: {not_hospitalized_death}'], title = f'Hospitalizados: {patient_type_home}', loc = 'upper right')\n",
    "plt.show()"
   ]
  },
  {
   "cell_type": "markdown",
   "id": "4e16c7ad",
   "metadata": {},
   "source": [
    "<h3>Conclusiones del apartado </h3>"
   ]
  },
  {
   "cell_type": "markdown",
   "id": "4fe5aad6",
   "metadata": {},
   "source": [
    "- De un total de 1048575 de casos reportados, solo 391979 fueron diagnosticados con COVID-19 en diferentes grados, lo que significa que había una posibilidad de 37.4% de ser diagnosticado positivo y un 62.56% de ser diagnosticado como negativo.\n",
    "\n",
    "- De todos los casos diagnosticados como COVID-19 positivo, la probabilidad de que el paciente regresara a casa era de un 71.6%, dejando un margen mínimo de que el paciente necesitara ser hospitalizado para tratar la afección.\n",
    "\n",
    "- La probabilidad de que los pacientes hospitalizados fallecieran, era casi de un 50%, lo que nos permite identificar que el sesgo de supervivencia era mínimo y la distribución de estadísticas, era casi similar.\n",
    "\n",
    "- En cuanto a los pacientes que regresaron a casa, la tasa de mortalidad fue de 1.8%, dando como resultado una posibilidad de supervivencia mayoritaria.\n"
   ]
  },
  {
   "cell_type": "markdown",
   "id": "1505ccc0",
   "metadata": {},
   "source": [
    "<hr style=\"border: 1px solid black;\">"
   ]
  },
  {
   "cell_type": "markdown",
   "id": "8db9493b",
   "metadata": {},
   "source": [
    "## Total de casos detectados"
   ]
  },
  {
   "cell_type": "code",
   "execution_count": null,
   "id": "6204f97b",
   "metadata": {},
   "outputs": [],
   "source": []
  },
  {
   "cell_type": "markdown",
   "id": "eadf7de7",
   "metadata": {},
   "source": [
    "<hr style=\"border: 1px solid black;\">"
   ]
  },
  {
   "cell_type": "markdown",
   "id": "a5c2d32e",
   "metadata": {},
   "source": [
    "## Porcentaje de Infantes contagiados con su porcentaje de mortalidad"
   ]
  },
  {
   "cell_type": "markdown",
   "id": "6a48df99",
   "metadata": {},
   "source": [
    "Cabe destacar que se tomó como referencia a niños menores de 12 años, pues según estudios a partir de los 12 años empieza la adolescencia."
   ]
  },
  {
   "cell_type": "code",
   "execution_count": null,
   "id": "4b12a092",
   "metadata": {},
   "outputs": [],
   "source": [
    "# Creating a special dataframe only for the kids in the dataset\n",
    "df_kids = df_null[df_null['AGE'] < 12].copy()\n",
    "df_kids"
   ]
  },
  {
   "cell_type": "code",
   "execution_count": null,
   "id": "06d92c16",
   "metadata": {},
   "outputs": [],
   "source": [
    "# Checking the amount of kids with or without Covid\n",
    "df_kids[\"Covid_Not_Covid\"].value_counts()\n",
    "# Understanding that value 1 means that they are infected and value 2 means that they are not infected."
   ]
  },
  {
   "cell_type": "code",
   "execution_count": null,
   "id": "323cfaf8",
   "metadata": {},
   "outputs": [],
   "source": [
    "# Creating a graph to make visible the percentage of infected and non-infected children.\n",
    "labels = [\"No tiene Covid\", \"Tiene Covid\"]\n",
    "sizes = df_kids['Covid_Not_Covid'].value_counts()\n",
    "colors = ['#77FF88', '#A078FF']\n",
    "plt.figure(figsize = (10,10))\n",
    "plt.pie(sizes, labels=labels, autopct='%1.1f%%', textprops={'fontsize':20}, colors = colors)\n",
    "plt.title('Porcentaje de infantes contagiados entre los mismos infantes', color = '#FF6969', fontsize = 30)\n",
    "plt.legend(df_kids['Covid_Not_Covid'].value_counts(), loc = 'lower right', title = 'Conteo')\n",
    "plt.show()"
   ]
  },
  {
   "cell_type": "code",
   "execution_count": null,
   "id": "14ece659",
   "metadata": {},
   "outputs": [],
   "source": [
    "#Creating a graph to obtain the number of infected children among all patients.\n",
    "ninos_cont = df_null[(df_null['AGE'] < 12) & (df_null['Covid_Not_Covid'] == 1)].shape[0]\n",
    "adultos_cont = df_null[(df_null['AGE'] >= 12) & (df_null['Covid_Not_Covid'] == 1)].shape[0]\n",
    "\n",
    "labels = [\"Niños\", \"Adolescentes y Adultos\"]\n",
    "sizes = [ninos_cont, adultos_cont]\n",
    "colors = ['#77FF88', '#A078FF']\n",
    "plt.figure(figsize = (10,10))\n",
    "plt.pie(sizes, labels=labels, autopct='%1.1f%%', textprops={'fontsize':20}, colors = colors)\n",
    "plt.title('Porcentaje de infantes contagiados entre todos los contagiados', color = '#FF6969', fontsize = 30)\n",
    "plt.legend([ninos_cont, adultos_cont], loc = 'lower right', title = 'Conteo')\n",
    "plt.show()"
   ]
  },
  {
   "cell_type": "code",
   "execution_count": null,
   "id": "c2ebfee3",
   "metadata": {},
   "outputs": [],
   "source": [
    "print(\"Niños contagiados: \", ninos_cont)\n",
    "print(\"Adolescentes y adultos contagiados: \", adultos_cont)"
   ]
  },
  {
   "cell_type": "markdown",
   "id": "5f3f086d",
   "metadata": {},
   "source": [
    "##### We have to take into account that there are 345 missing data in the age column, and here we reflect a lack of 126 people who are infected, but do not have data on their age."
   ]
  },
  {
   "cell_type": "markdown",
   "id": "4bc48300",
   "metadata": {},
   "source": [
    "### Porcentaje de mortalidad entre los niños contagiados"
   ]
  },
  {
   "cell_type": "code",
   "execution_count": null,
   "id": "94841dd2",
   "metadata": {},
   "outputs": [],
   "source": [
    "# Creating a variable or array containing only the infected children.\n",
    "kids_infected = df_kids[(df_kids['Covid_Not_Covid'] == 1)]"
   ]
  },
  {
   "cell_type": "code",
   "execution_count": null,
   "id": "e4313b24",
   "metadata": {},
   "outputs": [],
   "source": [
    "# Checking the count of death and alive children.\n",
    "kids_infected[\"DEAD\"].value_counts()"
   ]
  },
  {
   "cell_type": "code",
   "execution_count": null,
   "id": "1ea78c87",
   "metadata": {},
   "outputs": [],
   "source": [
    "# Creating the graph to better observe the percentage of mortality.\n",
    "labels = [\"Vivos\", \"Muertos\"]\n",
    "sizes = kids_infected['DEAD'].value_counts()\n",
    "colors = ['#496780', '#FF1B12']\n",
    "plt.figure(figsize = (10,10))\n",
    "plt.pie(sizes, labels=labels, autopct='%1.1f%%', textprops={'fontsize':20, 'color':\"black\"}, colors = colors,\n",
    "        explode=[0.05, 0.05])\n",
    "plt.title('Porcentaje de mortalidad entre los niños contagiados',color = 'red',fontsize = 30)\n",
    "plt.legend(kids_infected['DEAD'].value_counts(), loc = 'lower right', title = 'Porcentaje de Mortalidad')\n",
    "plt.show()"
   ]
  },
  {
   "cell_type": "code",
   "execution_count": null,
   "id": "b9b35d0e",
   "metadata": {},
   "outputs": [],
   "source": [
    "# Creating a dataframe only for the dead infected children.\n",
    "inf_kids_dead = kids_infected[(kids_infected['DEAD'] == 1)]\n",
    "# Checking the age distribution between the infected children.\n",
    "plt.figure(figsize=(8, 8))\n",
    "sns.histplot(inf_kids_dead['AGE'], bins=10, color='skyblue', kde=False)\n",
    "plt.title('Distribución de Edades')\n",
    "plt.xlabel('Edad')\n",
    "plt.ylabel('Densidad')\n",
    "plt.show()"
   ]
  },
  {
   "cell_type": "code",
   "execution_count": null,
   "id": "2bcf9d63",
   "metadata": {},
   "outputs": [],
   "source": [
    "inf_kids_dead['AGE'].value_counts()"
   ]
  },
  {
   "cell_type": "markdown",
   "id": "7ab7f147",
   "metadata": {},
   "source": [
    "### Porcentaje de mortalidad de todos los niños en el dataset"
   ]
  },
  {
   "cell_type": "code",
   "execution_count": null,
   "id": "f66efcfb",
   "metadata": {},
   "outputs": [],
   "source": [
    "# Creating a graph to see the percentage of dead kids infected or not infected with Covid-19\n",
    "labels = [\"Vivos\", \"Muertos\"]\n",
    "sizes = df_kids['DEAD'].value_counts()\n",
    "colors = ['#496780', '#FF1B12']\n",
    "plt.figure(figsize = (10,10))\n",
    "plt.pie(sizes, labels=labels, autopct='%1.1f%%', textprops={'fontsize':20, 'color':\"black\"}, colors = colors,\n",
    "        explode=[0.05, 0.05])\n",
    "plt.title('Porcentaje de mortalidad de todos los niños registrados',color = 'red',fontsize = 30)\n",
    "plt.legend(df_kids['DEAD'].value_counts(), loc = 'lower right', title = 'Porcentaje de Mortalidad')\n",
    "plt.show()"
   ]
  },
  {
   "cell_type": "code",
   "execution_count": null,
   "id": "3c9ab260",
   "metadata": {},
   "outputs": [],
   "source": [
    "# Creating a dataframe only for the dead children.\n",
    "kids_dead = df_kids[(df_kids['DEAD'] == 1)]\n",
    "# Checking the age distribution between all the death kids.\n",
    "plt.figure(figsize=(8, 8))\n",
    "sns.histplot(kids_dead['AGE'], bins=10, color='skyblue', kde=False)\n",
    "plt.title('Distribución de Edades')\n",
    "plt.xlabel('Edad')\n",
    "plt.ylabel('Densidad')\n",
    "plt.show()"
   ]
  },
  {
   "cell_type": "code",
   "execution_count": null,
   "id": "caef2e93",
   "metadata": {},
   "outputs": [],
   "source": [
    "kids_dead['AGE'].value_counts()"
   ]
  },
  {
   "cell_type": "markdown",
   "id": "d6c4e036",
   "metadata": {},
   "source": [
    "### Conclusiones en el apartado"
   ]
  },
  {
   "cell_type": "markdown",
   "id": "468e0647",
   "metadata": {},
   "source": [
    "- De un total de 33904 niños a los cuales se les hicieron pruebas de Covid, solo 5131 salieron positivos en uno de los tres niveles de detección; lo que representa solo un 15.1% de esa población de niños.\n",
    "\n",
    "- De todos los pacientes que fueron detectados y que conocemos su edad, solo representan un 1.3%, por ende, los niños no representan una gran cantidad de casos positivos en el estudio.\n",
    "\n",
    "- El porcentaje de mortalidad en los niños contagiados es bastante bajo, con solo un 2.8%, lo que equivale a solo 143 niños que murieron.\n",
    "\n",
    "- La edad con mayor tasa de mortalidad en niños contagiados son los 0 años con 48 defunciones y le sigue 1 año de edad con 38 defunciones, siendo las dos edades con mayor porcentaje de mortalidad.\n",
    "\n",
    "- De todos los niños registrados, hubieron 650 que murieron, de los cuales solo 143 fueron detectados con Covid-19 y representan un porcentaje de mortalidad de 1.9%.\n",
    "\n",
    "- Las edades con las tasas de mortalidad más altas fueron los 0 a los 11 años, pero la edad con más mortalidad son los 0 años, con 209 muertes."
   ]
  },
  {
   "cell_type": "markdown",
   "id": "e5d3c49e",
   "metadata": {},
   "source": [
    "<hr style=\"border: 1px solid black;\">"
   ]
  }
 ],
 "metadata": {
  "kernelspec": {
   "display_name": "Python 3 (ipykernel)",
   "language": "python",
   "name": "python3"
  },
  "language_info": {
   "codemirror_mode": {
    "name": "ipython",
    "version": 3
   },
   "file_extension": ".py",
   "mimetype": "text/x-python",
   "name": "python",
   "nbconvert_exporter": "python",
   "pygments_lexer": "ipython3",
   "version": "3.9.12"
  }
 },
 "nbformat": 4,
 "nbformat_minor": 5
}
