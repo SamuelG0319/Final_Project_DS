{
 "cells": [
  {
   "cell_type": "code",
   "execution_count": 11,
   "id": "5463d93c",
   "metadata": {},
   "outputs": [
    {
     "name": "stdout",
     "output_type": "stream",
     "text": [
      "-> All libraries imported successfully.\n"
     ]
    }
   ],
   "source": [
    "import pandas as pd\n",
    "import numpy as np\n",
    "print('-> All libraries imported successfully.')"
   ]
  },
  {
   "cell_type": "code",
   "execution_count": 12,
   "id": "a32cf2d9",
   "metadata": {},
   "outputs": [
    {
     "name": "stdout",
     "output_type": "stream",
     "text": [
      "-> CSV file imported successfully.\n"
     ]
    }
   ],
   "source": [
    "df = pd.read_csv('Covid Data.csv')\n",
    "print ('-> CSV file imported successfully.')"
   ]
  },
  {
   "cell_type": "code",
   "execution_count": 13,
   "id": "8abe1615",
   "metadata": {
    "scrolled": false
   },
   "outputs": [
    {
     "name": "stdout",
     "output_type": "stream",
     "text": [
      "USMER                   1048575\n",
      "MEDICAL_UNIT            1048575\n",
      "SEX                     1048575\n",
      "PATIENT_TYPE            1048575\n",
      "DATE_DIED               1048575\n",
      "INTUBED                 1048575\n",
      "PNEUMONIA               1048575\n",
      "AGE                     1048575\n",
      "PREGNANT                1048575\n",
      "DIABETES                1048575\n",
      "COPD                    1048575\n",
      "ASTHMA                  1048575\n",
      "INMSUPR                 1048575\n",
      "HIPERTENSION            1048575\n",
      "OTHER_DISEASE           1048575\n",
      "CARDIOVASCULAR          1048575\n",
      "OBESITY                 1048575\n",
      "RENAL_CHRONIC           1048575\n",
      "TOBACCO                 1048575\n",
      "CLASIFFICATION_FINAL    1048575\n",
      "ICU                     1048575\n",
      "dtype: int64\n"
     ]
    }
   ],
   "source": [
    "#Evaluate if there are empty fields in the data.\n",
    "empty_fields = df.isnull()\n",
    "count_of_false_intubed = (empty_fields == False).sum()\n",
    "print(count_of_false_intubed)"
   ]
  },
  {
   "cell_type": "code",
   "execution_count": 15,
   "id": "68d16340",
   "metadata": {},
   "outputs": [],
   "source": [
    "# Checking if there's null data, but with the values of null data in this particular data set\n",
    "df_null = df.copy() #I'm creating a copy of the dataframe to not affect the original\n",
    "for i in [97, 98, 99]:\n",
    "    df_null.replace(i, np.nan, inplace = True)"
   ]
  },
  {
   "cell_type": "code",
   "execution_count": 17,
   "id": "45153905",
   "metadata": {},
   "outputs": [
    {
     "data": {
      "text/plain": [
       "USMER                        0\n",
       "MEDICAL_UNIT                 0\n",
       "SEX                          0\n",
       "PATIENT_TYPE                 0\n",
       "DATE_DIED                    0\n",
       "INTUBED                 855869\n",
       "PNEUMONIA                16003\n",
       "AGE                        345\n",
       "PREGNANT                527265\n",
       "DIABETES                  3338\n",
       "COPD                      3003\n",
       "ASTHMA                    2979\n",
       "INMSUPR                   3404\n",
       "HIPERTENSION              3104\n",
       "OTHER_DISEASE             5045\n",
       "CARDIOVASCULAR            3076\n",
       "OBESITY                   3032\n",
       "RENAL_CHRONIC             3006\n",
       "TOBACCO                   3220\n",
       "CLASIFFICATION_FINAL         0\n",
       "ICU                     856032\n",
       "dtype: int64"
      ]
     },
     "execution_count": 17,
     "metadata": {},
     "output_type": "execute_result"
    }
   ],
   "source": [
    "df_null.isnull().sum()"
   ]
  },
  {
   "cell_type": "code",
   "execution_count": 19,
   "id": "f8a35121",
   "metadata": {},
   "outputs": [
    {
     "name": "stdout",
     "output_type": "stream",
     "text": [
      "At PATIENT_TYPE = 1 and at INTUBED = 1 the shape will be:\n",
      "(0, 21) \n",
      " ------------------------------------------------------------------- \n",
      "\n",
      "At PATIENT_TYPE = 2 and at INTUBED = 1 the shape will be:\n",
      "(33656, 21) \n",
      " ------------------------------------------------------------------- \n",
      "\n",
      "At PATIENT_TYPE = 1 and at INTUBED = 2 the shape will be:\n",
      "(0, 21) \n",
      " ------------------------------------------------------------------- \n",
      "\n",
      "At PATIENT_TYPE = 2 and at INTUBED = 2 the shape will be:\n",
      "(159050, 21) \n",
      " ------------------------------------------------------------------- \n",
      "\n",
      "At PATIENT_TYPE = 1 and at INTUBED = 97 the shape will be:\n",
      "(848544, 21) \n",
      " ------------------------------------------------------------------- \n",
      "\n",
      "At PATIENT_TYPE = 2 and at INTUBED = 97 the shape will be:\n",
      "(0, 21) \n",
      " ------------------------------------------------------------------- \n",
      "\n",
      "At PATIENT_TYPE = 1 and at INTUBED = 99 the shape will be:\n",
      "(0, 21) \n",
      " ------------------------------------------------------------------- \n",
      "\n",
      "At PATIENT_TYPE = 2 and at INTUBED = 99 the shape will be:\n",
      "(7325, 21) \n",
      " ------------------------------------------------------------------- \n",
      "\n"
     ]
    }
   ],
   "source": [
    "# Checking the relation between pacient type and his intubation, contemplating the null data\n",
    "for i in [1, 2, 97, 99]:\n",
    "    for j in [1, 2]:\n",
    "        print (f\"At PATIENT_TYPE = {j} and at INTUBED = {i} the shape will be:\")\n",
    "        print (df[(df['PATIENT_TYPE'] == j) & (df['INTUBED'] == i)].shape, \"\\n\",\n",
    "               \"-------------------------------------------------------------------\", \"\\n\")"
   ]
  },
  {
   "cell_type": "code",
   "execution_count": null,
   "id": "439a12bd",
   "metadata": {},
   "outputs": [],
   "source": []
  }
 ],
 "metadata": {
  "kernelspec": {
   "display_name": "Python 3 (ipykernel)",
   "language": "python",
   "name": "python3"
  },
  "language_info": {
   "codemirror_mode": {
    "name": "ipython",
    "version": 3
   },
   "file_extension": ".py",
   "mimetype": "text/x-python",
   "name": "python",
   "nbconvert_exporter": "python",
   "pygments_lexer": "ipython3",
   "version": "3.9.12"
  }
 },
 "nbformat": 4,
 "nbformat_minor": 5
}
