{
 "cells": [
  {
   "cell_type": "markdown",
   "id": "4ada74e7",
   "metadata": {},
   "source": [
    "# Proyecto Final - Covid-19 Analysis"
   ]
  },
  {
   "cell_type": "markdown",
   "id": "687f652b",
   "metadata": {},
   "source": [
    "### By: Fernanda González, Keily Marín, Samuel Lasso, Miguel Rodríguez, Carlos Serrano & Iván Valdés"
   ]
  },
  {
   "cell_type": "markdown",
   "id": "7e9f6303",
   "metadata": {},
   "source": [
    "### Importing the libraries to use"
   ]
  },
  {
   "cell_type": "code",
   "execution_count": 1,
   "id": "5463d93c",
   "metadata": {},
   "outputs": [
    {
     "name": "stdout",
     "output_type": "stream",
     "text": [
      "-> All libraries imported successfully.\n"
     ]
    }
   ],
   "source": [
    "import pandas as pd\n",
    "import numpy as np\n",
    "import matplotlib.pyplot as plt\n",
    "from matplotlib.ticker import FormatStrFormatter\n",
    "import seaborn as sns\n",
    "print('-> All libraries imported successfully.')"
   ]
  },
  {
   "cell_type": "code",
   "execution_count": 2,
   "id": "a32cf2d9",
   "metadata": {},
   "outputs": [
    {
     "name": "stdout",
     "output_type": "stream",
     "text": [
      "-> CSV file imported successfully.\n"
     ]
    }
   ],
   "source": [
    "df = pd.read_csv('Covid Data.csv')\n",
    "print ('-> CSV file imported successfully.')"
   ]
  },
  {
   "cell_type": "markdown",
   "id": "e0762498",
   "metadata": {},
   "source": [
    "### Data preparation and cleaning"
   ]
  },
  {
   "cell_type": "code",
   "execution_count": 3,
   "id": "8abe1615",
   "metadata": {
    "scrolled": false
   },
   "outputs": [
    {
     "name": "stdout",
     "output_type": "stream",
     "text": [
      "USMER                   1048575\n",
      "MEDICAL_UNIT            1048575\n",
      "SEX                     1048575\n",
      "PATIENT_TYPE            1048575\n",
      "DATE_DIED               1048575\n",
      "INTUBED                 1048575\n",
      "PNEUMONIA               1048575\n",
      "AGE                     1048575\n",
      "PREGNANT                1048575\n",
      "DIABETES                1048575\n",
      "COPD                    1048575\n",
      "ASTHMA                  1048575\n",
      "INMSUPR                 1048575\n",
      "HIPERTENSION            1048575\n",
      "OTHER_DISEASE           1048575\n",
      "CARDIOVASCULAR          1048575\n",
      "OBESITY                 1048575\n",
      "RENAL_CHRONIC           1048575\n",
      "TOBACCO                 1048575\n",
      "CLASIFFICATION_FINAL    1048575\n",
      "ICU                     1048575\n",
      "dtype: int64\n"
     ]
    }
   ],
   "source": [
    "#Evaluate if there are empty fields in the data.\n",
    "empty_fields = df.isnull()\n",
    "count_of_false_data = (empty_fields == False).sum()\n",
    "print(count_of_false_data)"
   ]
  },
  {
   "cell_type": "code",
   "execution_count": 4,
   "id": "68d16340",
   "metadata": {},
   "outputs": [],
   "source": [
    "# Checking if there's null data, but with the values of null data in this particular data set\n",
    "df_null = df.copy() #I'm creating a copy of the dataframe to not affect the original\n",
    "for i in [97, 98, 99]:\n",
    "    df_null.replace(i, np.nan, inplace = True)"
   ]
  },
  {
   "cell_type": "code",
   "execution_count": 5,
   "id": "45153905",
   "metadata": {},
   "outputs": [
    {
     "data": {
      "text/plain": [
       "USMER                        0\n",
       "MEDICAL_UNIT                 0\n",
       "SEX                          0\n",
       "PATIENT_TYPE                 0\n",
       "DATE_DIED                    0\n",
       "INTUBED                 855869\n",
       "PNEUMONIA                16003\n",
       "AGE                        345\n",
       "PREGNANT                527265\n",
       "DIABETES                  3338\n",
       "COPD                      3003\n",
       "ASTHMA                    2979\n",
       "INMSUPR                   3404\n",
       "HIPERTENSION              3104\n",
       "OTHER_DISEASE             5045\n",
       "CARDIOVASCULAR            3076\n",
       "OBESITY                   3032\n",
       "RENAL_CHRONIC             3006\n",
       "TOBACCO                   3220\n",
       "CLASIFFICATION_FINAL         0\n",
       "ICU                     856032\n",
       "dtype: int64"
      ]
     },
     "execution_count": 5,
     "metadata": {},
     "output_type": "execute_result"
    }
   ],
   "source": [
    "df_null.isnull().sum()"
   ]
  },
  {
   "cell_type": "code",
   "execution_count": 6,
   "id": "f8a35121",
   "metadata": {
    "scrolled": false
   },
   "outputs": [
    {
     "name": "stdout",
     "output_type": "stream",
     "text": [
      "At PATIENT_TYPE = 1 and at INTUBED = 1 the shape will be:\n",
      "(0, 21) \n",
      " ------------------------------------------------------------------- \n",
      "\n",
      "At PATIENT_TYPE = 2 and at INTUBED = 1 the shape will be:\n",
      "(33656, 21) \n",
      " ------------------------------------------------------------------- \n",
      "\n",
      "At PATIENT_TYPE = 1 and at INTUBED = 2 the shape will be:\n",
      "(0, 21) \n",
      " ------------------------------------------------------------------- \n",
      "\n",
      "At PATIENT_TYPE = 2 and at INTUBED = 2 the shape will be:\n",
      "(159050, 21) \n",
      " ------------------------------------------------------------------- \n",
      "\n",
      "At PATIENT_TYPE = 1 and at INTUBED = 97 the shape will be:\n",
      "(848544, 21) \n",
      " ------------------------------------------------------------------- \n",
      "\n",
      "At PATIENT_TYPE = 2 and at INTUBED = 97 the shape will be:\n",
      "(0, 21) \n",
      " ------------------------------------------------------------------- \n",
      "\n",
      "At PATIENT_TYPE = 1 and at INTUBED = 99 the shape will be:\n",
      "(0, 21) \n",
      " ------------------------------------------------------------------- \n",
      "\n",
      "At PATIENT_TYPE = 2 and at INTUBED = 99 the shape will be:\n",
      "(7325, 21) \n",
      " ------------------------------------------------------------------- \n",
      "\n"
     ]
    }
   ],
   "source": [
    "# Checking the relation between pacient type and his intubation, contemplating the null data\n",
    "for i in [1, 2, 97, 99]:\n",
    "    for j in [1, 2]:\n",
    "        print (f\"At PATIENT_TYPE = {j} and at INTUBED = {i} the shape will be:\")\n",
    "        print (df[(df['PATIENT_TYPE'] == j) & (df['INTUBED'] == i)].shape, \"\\n\",\n",
    "               \"-------------------------------------------------------------------\", \"\\n\")"
   ]
  },
  {
   "cell_type": "markdown",
   "id": "16bff1d2",
   "metadata": {},
   "source": [
    "### Cleaning the date_died column"
   ]
  },
  {
   "cell_type": "markdown",
   "id": "a0828642",
   "metadata": {},
   "source": [
    "#### Python treats the Objects as a string, so we can make some changes in it."
   ]
  },
  {
   "cell_type": "code",
   "execution_count": 7,
   "id": "02c007b0",
   "metadata": {},
   "outputs": [],
   "source": [
    "# Creating a special column, assigning a 1 if the person died or a 0 if the person didn't died.\n",
    "df_null['DEAD'] = [2 if i=='9999-99-99' else 1 for i in df_null.DATE_DIED]"
   ]
  },
  {
   "cell_type": "code",
   "execution_count": 8,
   "id": "903786d0",
   "metadata": {},
   "outputs": [],
   "source": [
    "# Replacing each 9999-99-99 value for a null value (NaN)\n",
    "df_null['DATE_DIED'].replace('9999-99-99', np.nan, inplace = True)"
   ]
  },
  {
   "cell_type": "code",
   "execution_count": 9,
   "id": "d92c77c4",
   "metadata": {
    "scrolled": false
   },
   "outputs": [
    {
     "data": {
      "text/html": [
       "<div>\n",
       "<style scoped>\n",
       "    .dataframe tbody tr th:only-of-type {\n",
       "        vertical-align: middle;\n",
       "    }\n",
       "\n",
       "    .dataframe tbody tr th {\n",
       "        vertical-align: top;\n",
       "    }\n",
       "\n",
       "    .dataframe thead th {\n",
       "        text-align: right;\n",
       "    }\n",
       "</style>\n",
       "<table border=\"1\" class=\"dataframe\">\n",
       "  <thead>\n",
       "    <tr style=\"text-align: right;\">\n",
       "      <th></th>\n",
       "      <th>USMER</th>\n",
       "      <th>MEDICAL_UNIT</th>\n",
       "      <th>SEX</th>\n",
       "      <th>PATIENT_TYPE</th>\n",
       "      <th>DATE_DIED</th>\n",
       "      <th>INTUBED</th>\n",
       "      <th>PNEUMONIA</th>\n",
       "      <th>AGE</th>\n",
       "      <th>PREGNANT</th>\n",
       "      <th>DIABETES</th>\n",
       "      <th>...</th>\n",
       "      <th>INMSUPR</th>\n",
       "      <th>HIPERTENSION</th>\n",
       "      <th>OTHER_DISEASE</th>\n",
       "      <th>CARDIOVASCULAR</th>\n",
       "      <th>OBESITY</th>\n",
       "      <th>RENAL_CHRONIC</th>\n",
       "      <th>TOBACCO</th>\n",
       "      <th>CLASIFFICATION_FINAL</th>\n",
       "      <th>ICU</th>\n",
       "      <th>DEAD</th>\n",
       "    </tr>\n",
       "  </thead>\n",
       "  <tbody>\n",
       "    <tr>\n",
       "      <th>0</th>\n",
       "      <td>2</td>\n",
       "      <td>1</td>\n",
       "      <td>1</td>\n",
       "      <td>1</td>\n",
       "      <td>03/05/2020</td>\n",
       "      <td>NaN</td>\n",
       "      <td>1.0</td>\n",
       "      <td>65.0</td>\n",
       "      <td>2.0</td>\n",
       "      <td>2.0</td>\n",
       "      <td>...</td>\n",
       "      <td>2.0</td>\n",
       "      <td>1.0</td>\n",
       "      <td>2.0</td>\n",
       "      <td>2.0</td>\n",
       "      <td>2.0</td>\n",
       "      <td>2.0</td>\n",
       "      <td>2.0</td>\n",
       "      <td>3</td>\n",
       "      <td>NaN</td>\n",
       "      <td>1</td>\n",
       "    </tr>\n",
       "    <tr>\n",
       "      <th>1</th>\n",
       "      <td>2</td>\n",
       "      <td>1</td>\n",
       "      <td>2</td>\n",
       "      <td>1</td>\n",
       "      <td>03/06/2020</td>\n",
       "      <td>NaN</td>\n",
       "      <td>1.0</td>\n",
       "      <td>72.0</td>\n",
       "      <td>NaN</td>\n",
       "      <td>2.0</td>\n",
       "      <td>...</td>\n",
       "      <td>2.0</td>\n",
       "      <td>1.0</td>\n",
       "      <td>2.0</td>\n",
       "      <td>2.0</td>\n",
       "      <td>1.0</td>\n",
       "      <td>1.0</td>\n",
       "      <td>2.0</td>\n",
       "      <td>5</td>\n",
       "      <td>NaN</td>\n",
       "      <td>1</td>\n",
       "    </tr>\n",
       "    <tr>\n",
       "      <th>2</th>\n",
       "      <td>2</td>\n",
       "      <td>1</td>\n",
       "      <td>2</td>\n",
       "      <td>2</td>\n",
       "      <td>09/06/2020</td>\n",
       "      <td>1.0</td>\n",
       "      <td>2.0</td>\n",
       "      <td>55.0</td>\n",
       "      <td>NaN</td>\n",
       "      <td>1.0</td>\n",
       "      <td>...</td>\n",
       "      <td>2.0</td>\n",
       "      <td>2.0</td>\n",
       "      <td>2.0</td>\n",
       "      <td>2.0</td>\n",
       "      <td>2.0</td>\n",
       "      <td>2.0</td>\n",
       "      <td>2.0</td>\n",
       "      <td>3</td>\n",
       "      <td>2.0</td>\n",
       "      <td>1</td>\n",
       "    </tr>\n",
       "    <tr>\n",
       "      <th>3</th>\n",
       "      <td>2</td>\n",
       "      <td>1</td>\n",
       "      <td>1</td>\n",
       "      <td>1</td>\n",
       "      <td>12/06/2020</td>\n",
       "      <td>NaN</td>\n",
       "      <td>2.0</td>\n",
       "      <td>53.0</td>\n",
       "      <td>2.0</td>\n",
       "      <td>2.0</td>\n",
       "      <td>...</td>\n",
       "      <td>2.0</td>\n",
       "      <td>2.0</td>\n",
       "      <td>2.0</td>\n",
       "      <td>2.0</td>\n",
       "      <td>2.0</td>\n",
       "      <td>2.0</td>\n",
       "      <td>2.0</td>\n",
       "      <td>7</td>\n",
       "      <td>NaN</td>\n",
       "      <td>1</td>\n",
       "    </tr>\n",
       "    <tr>\n",
       "      <th>4</th>\n",
       "      <td>2</td>\n",
       "      <td>1</td>\n",
       "      <td>2</td>\n",
       "      <td>1</td>\n",
       "      <td>21/06/2020</td>\n",
       "      <td>NaN</td>\n",
       "      <td>2.0</td>\n",
       "      <td>68.0</td>\n",
       "      <td>NaN</td>\n",
       "      <td>1.0</td>\n",
       "      <td>...</td>\n",
       "      <td>2.0</td>\n",
       "      <td>1.0</td>\n",
       "      <td>2.0</td>\n",
       "      <td>2.0</td>\n",
       "      <td>2.0</td>\n",
       "      <td>2.0</td>\n",
       "      <td>2.0</td>\n",
       "      <td>3</td>\n",
       "      <td>NaN</td>\n",
       "      <td>1</td>\n",
       "    </tr>\n",
       "    <tr>\n",
       "      <th>...</th>\n",
       "      <td>...</td>\n",
       "      <td>...</td>\n",
       "      <td>...</td>\n",
       "      <td>...</td>\n",
       "      <td>...</td>\n",
       "      <td>...</td>\n",
       "      <td>...</td>\n",
       "      <td>...</td>\n",
       "      <td>...</td>\n",
       "      <td>...</td>\n",
       "      <td>...</td>\n",
       "      <td>...</td>\n",
       "      <td>...</td>\n",
       "      <td>...</td>\n",
       "      <td>...</td>\n",
       "      <td>...</td>\n",
       "      <td>...</td>\n",
       "      <td>...</td>\n",
       "      <td>...</td>\n",
       "      <td>...</td>\n",
       "      <td>...</td>\n",
       "    </tr>\n",
       "    <tr>\n",
       "      <th>1048570</th>\n",
       "      <td>2</td>\n",
       "      <td>13</td>\n",
       "      <td>2</td>\n",
       "      <td>1</td>\n",
       "      <td>NaN</td>\n",
       "      <td>NaN</td>\n",
       "      <td>2.0</td>\n",
       "      <td>40.0</td>\n",
       "      <td>NaN</td>\n",
       "      <td>2.0</td>\n",
       "      <td>...</td>\n",
       "      <td>2.0</td>\n",
       "      <td>2.0</td>\n",
       "      <td>2.0</td>\n",
       "      <td>2.0</td>\n",
       "      <td>2.0</td>\n",
       "      <td>2.0</td>\n",
       "      <td>2.0</td>\n",
       "      <td>7</td>\n",
       "      <td>NaN</td>\n",
       "      <td>2</td>\n",
       "    </tr>\n",
       "    <tr>\n",
       "      <th>1048571</th>\n",
       "      <td>1</td>\n",
       "      <td>13</td>\n",
       "      <td>2</td>\n",
       "      <td>2</td>\n",
       "      <td>NaN</td>\n",
       "      <td>2.0</td>\n",
       "      <td>2.0</td>\n",
       "      <td>51.0</td>\n",
       "      <td>NaN</td>\n",
       "      <td>2.0</td>\n",
       "      <td>...</td>\n",
       "      <td>2.0</td>\n",
       "      <td>1.0</td>\n",
       "      <td>2.0</td>\n",
       "      <td>2.0</td>\n",
       "      <td>2.0</td>\n",
       "      <td>2.0</td>\n",
       "      <td>2.0</td>\n",
       "      <td>7</td>\n",
       "      <td>2.0</td>\n",
       "      <td>2</td>\n",
       "    </tr>\n",
       "    <tr>\n",
       "      <th>1048572</th>\n",
       "      <td>2</td>\n",
       "      <td>13</td>\n",
       "      <td>2</td>\n",
       "      <td>1</td>\n",
       "      <td>NaN</td>\n",
       "      <td>NaN</td>\n",
       "      <td>2.0</td>\n",
       "      <td>55.0</td>\n",
       "      <td>NaN</td>\n",
       "      <td>2.0</td>\n",
       "      <td>...</td>\n",
       "      <td>2.0</td>\n",
       "      <td>2.0</td>\n",
       "      <td>2.0</td>\n",
       "      <td>2.0</td>\n",
       "      <td>2.0</td>\n",
       "      <td>2.0</td>\n",
       "      <td>2.0</td>\n",
       "      <td>7</td>\n",
       "      <td>NaN</td>\n",
       "      <td>2</td>\n",
       "    </tr>\n",
       "    <tr>\n",
       "      <th>1048573</th>\n",
       "      <td>2</td>\n",
       "      <td>13</td>\n",
       "      <td>2</td>\n",
       "      <td>1</td>\n",
       "      <td>NaN</td>\n",
       "      <td>NaN</td>\n",
       "      <td>2.0</td>\n",
       "      <td>28.0</td>\n",
       "      <td>NaN</td>\n",
       "      <td>2.0</td>\n",
       "      <td>...</td>\n",
       "      <td>2.0</td>\n",
       "      <td>2.0</td>\n",
       "      <td>2.0</td>\n",
       "      <td>2.0</td>\n",
       "      <td>2.0</td>\n",
       "      <td>2.0</td>\n",
       "      <td>2.0</td>\n",
       "      <td>7</td>\n",
       "      <td>NaN</td>\n",
       "      <td>2</td>\n",
       "    </tr>\n",
       "    <tr>\n",
       "      <th>1048574</th>\n",
       "      <td>2</td>\n",
       "      <td>13</td>\n",
       "      <td>2</td>\n",
       "      <td>1</td>\n",
       "      <td>NaN</td>\n",
       "      <td>NaN</td>\n",
       "      <td>2.0</td>\n",
       "      <td>52.0</td>\n",
       "      <td>NaN</td>\n",
       "      <td>2.0</td>\n",
       "      <td>...</td>\n",
       "      <td>2.0</td>\n",
       "      <td>2.0</td>\n",
       "      <td>2.0</td>\n",
       "      <td>2.0</td>\n",
       "      <td>2.0</td>\n",
       "      <td>2.0</td>\n",
       "      <td>2.0</td>\n",
       "      <td>7</td>\n",
       "      <td>NaN</td>\n",
       "      <td>2</td>\n",
       "    </tr>\n",
       "  </tbody>\n",
       "</table>\n",
       "<p>1048575 rows × 22 columns</p>\n",
       "</div>"
      ],
      "text/plain": [
       "         USMER  MEDICAL_UNIT  SEX  PATIENT_TYPE   DATE_DIED  INTUBED  \\\n",
       "0            2             1    1             1  03/05/2020      NaN   \n",
       "1            2             1    2             1  03/06/2020      NaN   \n",
       "2            2             1    2             2  09/06/2020      1.0   \n",
       "3            2             1    1             1  12/06/2020      NaN   \n",
       "4            2             1    2             1  21/06/2020      NaN   \n",
       "...        ...           ...  ...           ...         ...      ...   \n",
       "1048570      2            13    2             1         NaN      NaN   \n",
       "1048571      1            13    2             2         NaN      2.0   \n",
       "1048572      2            13    2             1         NaN      NaN   \n",
       "1048573      2            13    2             1         NaN      NaN   \n",
       "1048574      2            13    2             1         NaN      NaN   \n",
       "\n",
       "         PNEUMONIA   AGE  PREGNANT  DIABETES  ...  INMSUPR  HIPERTENSION  \\\n",
       "0              1.0  65.0       2.0       2.0  ...      2.0           1.0   \n",
       "1              1.0  72.0       NaN       2.0  ...      2.0           1.0   \n",
       "2              2.0  55.0       NaN       1.0  ...      2.0           2.0   \n",
       "3              2.0  53.0       2.0       2.0  ...      2.0           2.0   \n",
       "4              2.0  68.0       NaN       1.0  ...      2.0           1.0   \n",
       "...            ...   ...       ...       ...  ...      ...           ...   \n",
       "1048570        2.0  40.0       NaN       2.0  ...      2.0           2.0   \n",
       "1048571        2.0  51.0       NaN       2.0  ...      2.0           1.0   \n",
       "1048572        2.0  55.0       NaN       2.0  ...      2.0           2.0   \n",
       "1048573        2.0  28.0       NaN       2.0  ...      2.0           2.0   \n",
       "1048574        2.0  52.0       NaN       2.0  ...      2.0           2.0   \n",
       "\n",
       "         OTHER_DISEASE  CARDIOVASCULAR  OBESITY  RENAL_CHRONIC  TOBACCO  \\\n",
       "0                  2.0             2.0      2.0            2.0      2.0   \n",
       "1                  2.0             2.0      1.0            1.0      2.0   \n",
       "2                  2.0             2.0      2.0            2.0      2.0   \n",
       "3                  2.0             2.0      2.0            2.0      2.0   \n",
       "4                  2.0             2.0      2.0            2.0      2.0   \n",
       "...                ...             ...      ...            ...      ...   \n",
       "1048570            2.0             2.0      2.0            2.0      2.0   \n",
       "1048571            2.0             2.0      2.0            2.0      2.0   \n",
       "1048572            2.0             2.0      2.0            2.0      2.0   \n",
       "1048573            2.0             2.0      2.0            2.0      2.0   \n",
       "1048574            2.0             2.0      2.0            2.0      2.0   \n",
       "\n",
       "         CLASIFFICATION_FINAL  ICU  DEAD  \n",
       "0                           3  NaN     1  \n",
       "1                           5  NaN     1  \n",
       "2                           3  2.0     1  \n",
       "3                           7  NaN     1  \n",
       "4                           3  NaN     1  \n",
       "...                       ...  ...   ...  \n",
       "1048570                     7  NaN     2  \n",
       "1048571                     7  2.0     2  \n",
       "1048572                     7  NaN     2  \n",
       "1048573                     7  NaN     2  \n",
       "1048574                     7  NaN     2  \n",
       "\n",
       "[1048575 rows x 22 columns]"
      ]
     },
     "execution_count": 9,
     "metadata": {},
     "output_type": "execute_result"
    }
   ],
   "source": [
    "# The new df_null dataset\n",
    "df_null"
   ]
  },
  {
   "cell_type": "markdown",
   "id": "cca78f7a",
   "metadata": {},
   "source": [
    "### Cleaning up the classification of contagions"
   ]
  },
  {
   "cell_type": "code",
   "execution_count": 10,
   "id": "fb2f084e",
   "metadata": {},
   "outputs": [],
   "source": [
    "# We make a function to evaluate whether or not patients were detected with Covid, adding a column to locate them more easily.\n",
    "def Covid_Not_Covid(val):\n",
    "    if val >= 4:\n",
    "        return 2\n",
    "    else:\n",
    "        return 1"
   ]
  },
  {
   "cell_type": "code",
   "execution_count": 11,
   "id": "c838996d",
   "metadata": {},
   "outputs": [],
   "source": [
    "# We create a new column to show the result of the application of the function created above.\n",
    "df_null['Covid_Not_Covid'] = df_null[\"CLASIFFICATION_FINAL\"].apply(Covid_Not_Covid)"
   ]
  },
  {
   "cell_type": "code",
   "execution_count": 12,
   "id": "ee5e5de5",
   "metadata": {},
   "outputs": [
    {
     "data": {
      "text/html": [
       "<div>\n",
       "<style scoped>\n",
       "    .dataframe tbody tr th:only-of-type {\n",
       "        vertical-align: middle;\n",
       "    }\n",
       "\n",
       "    .dataframe tbody tr th {\n",
       "        vertical-align: top;\n",
       "    }\n",
       "\n",
       "    .dataframe thead th {\n",
       "        text-align: right;\n",
       "    }\n",
       "</style>\n",
       "<table border=\"1\" class=\"dataframe\">\n",
       "  <thead>\n",
       "    <tr style=\"text-align: right;\">\n",
       "      <th></th>\n",
       "      <th>USMER</th>\n",
       "      <th>MEDICAL_UNIT</th>\n",
       "      <th>SEX</th>\n",
       "      <th>PATIENT_TYPE</th>\n",
       "      <th>DATE_DIED</th>\n",
       "      <th>INTUBED</th>\n",
       "      <th>PNEUMONIA</th>\n",
       "      <th>AGE</th>\n",
       "      <th>PREGNANT</th>\n",
       "      <th>DIABETES</th>\n",
       "      <th>...</th>\n",
       "      <th>HIPERTENSION</th>\n",
       "      <th>OTHER_DISEASE</th>\n",
       "      <th>CARDIOVASCULAR</th>\n",
       "      <th>OBESITY</th>\n",
       "      <th>RENAL_CHRONIC</th>\n",
       "      <th>TOBACCO</th>\n",
       "      <th>CLASIFFICATION_FINAL</th>\n",
       "      <th>ICU</th>\n",
       "      <th>DEAD</th>\n",
       "      <th>Covid_Not_Covid</th>\n",
       "    </tr>\n",
       "  </thead>\n",
       "  <tbody>\n",
       "    <tr>\n",
       "      <th>0</th>\n",
       "      <td>2</td>\n",
       "      <td>1</td>\n",
       "      <td>1</td>\n",
       "      <td>1</td>\n",
       "      <td>03/05/2020</td>\n",
       "      <td>NaN</td>\n",
       "      <td>1.0</td>\n",
       "      <td>65.0</td>\n",
       "      <td>2.0</td>\n",
       "      <td>2.0</td>\n",
       "      <td>...</td>\n",
       "      <td>1.0</td>\n",
       "      <td>2.0</td>\n",
       "      <td>2.0</td>\n",
       "      <td>2.0</td>\n",
       "      <td>2.0</td>\n",
       "      <td>2.0</td>\n",
       "      <td>3</td>\n",
       "      <td>NaN</td>\n",
       "      <td>1</td>\n",
       "      <td>1</td>\n",
       "    </tr>\n",
       "    <tr>\n",
       "      <th>1</th>\n",
       "      <td>2</td>\n",
       "      <td>1</td>\n",
       "      <td>2</td>\n",
       "      <td>1</td>\n",
       "      <td>03/06/2020</td>\n",
       "      <td>NaN</td>\n",
       "      <td>1.0</td>\n",
       "      <td>72.0</td>\n",
       "      <td>NaN</td>\n",
       "      <td>2.0</td>\n",
       "      <td>...</td>\n",
       "      <td>1.0</td>\n",
       "      <td>2.0</td>\n",
       "      <td>2.0</td>\n",
       "      <td>1.0</td>\n",
       "      <td>1.0</td>\n",
       "      <td>2.0</td>\n",
       "      <td>5</td>\n",
       "      <td>NaN</td>\n",
       "      <td>1</td>\n",
       "      <td>2</td>\n",
       "    </tr>\n",
       "    <tr>\n",
       "      <th>2</th>\n",
       "      <td>2</td>\n",
       "      <td>1</td>\n",
       "      <td>2</td>\n",
       "      <td>2</td>\n",
       "      <td>09/06/2020</td>\n",
       "      <td>1.0</td>\n",
       "      <td>2.0</td>\n",
       "      <td>55.0</td>\n",
       "      <td>NaN</td>\n",
       "      <td>1.0</td>\n",
       "      <td>...</td>\n",
       "      <td>2.0</td>\n",
       "      <td>2.0</td>\n",
       "      <td>2.0</td>\n",
       "      <td>2.0</td>\n",
       "      <td>2.0</td>\n",
       "      <td>2.0</td>\n",
       "      <td>3</td>\n",
       "      <td>2.0</td>\n",
       "      <td>1</td>\n",
       "      <td>1</td>\n",
       "    </tr>\n",
       "    <tr>\n",
       "      <th>3</th>\n",
       "      <td>2</td>\n",
       "      <td>1</td>\n",
       "      <td>1</td>\n",
       "      <td>1</td>\n",
       "      <td>12/06/2020</td>\n",
       "      <td>NaN</td>\n",
       "      <td>2.0</td>\n",
       "      <td>53.0</td>\n",
       "      <td>2.0</td>\n",
       "      <td>2.0</td>\n",
       "      <td>...</td>\n",
       "      <td>2.0</td>\n",
       "      <td>2.0</td>\n",
       "      <td>2.0</td>\n",
       "      <td>2.0</td>\n",
       "      <td>2.0</td>\n",
       "      <td>2.0</td>\n",
       "      <td>7</td>\n",
       "      <td>NaN</td>\n",
       "      <td>1</td>\n",
       "      <td>2</td>\n",
       "    </tr>\n",
       "    <tr>\n",
       "      <th>4</th>\n",
       "      <td>2</td>\n",
       "      <td>1</td>\n",
       "      <td>2</td>\n",
       "      <td>1</td>\n",
       "      <td>21/06/2020</td>\n",
       "      <td>NaN</td>\n",
       "      <td>2.0</td>\n",
       "      <td>68.0</td>\n",
       "      <td>NaN</td>\n",
       "      <td>1.0</td>\n",
       "      <td>...</td>\n",
       "      <td>1.0</td>\n",
       "      <td>2.0</td>\n",
       "      <td>2.0</td>\n",
       "      <td>2.0</td>\n",
       "      <td>2.0</td>\n",
       "      <td>2.0</td>\n",
       "      <td>3</td>\n",
       "      <td>NaN</td>\n",
       "      <td>1</td>\n",
       "      <td>1</td>\n",
       "    </tr>\n",
       "    <tr>\n",
       "      <th>...</th>\n",
       "      <td>...</td>\n",
       "      <td>...</td>\n",
       "      <td>...</td>\n",
       "      <td>...</td>\n",
       "      <td>...</td>\n",
       "      <td>...</td>\n",
       "      <td>...</td>\n",
       "      <td>...</td>\n",
       "      <td>...</td>\n",
       "      <td>...</td>\n",
       "      <td>...</td>\n",
       "      <td>...</td>\n",
       "      <td>...</td>\n",
       "      <td>...</td>\n",
       "      <td>...</td>\n",
       "      <td>...</td>\n",
       "      <td>...</td>\n",
       "      <td>...</td>\n",
       "      <td>...</td>\n",
       "      <td>...</td>\n",
       "      <td>...</td>\n",
       "    </tr>\n",
       "    <tr>\n",
       "      <th>1048570</th>\n",
       "      <td>2</td>\n",
       "      <td>13</td>\n",
       "      <td>2</td>\n",
       "      <td>1</td>\n",
       "      <td>NaN</td>\n",
       "      <td>NaN</td>\n",
       "      <td>2.0</td>\n",
       "      <td>40.0</td>\n",
       "      <td>NaN</td>\n",
       "      <td>2.0</td>\n",
       "      <td>...</td>\n",
       "      <td>2.0</td>\n",
       "      <td>2.0</td>\n",
       "      <td>2.0</td>\n",
       "      <td>2.0</td>\n",
       "      <td>2.0</td>\n",
       "      <td>2.0</td>\n",
       "      <td>7</td>\n",
       "      <td>NaN</td>\n",
       "      <td>2</td>\n",
       "      <td>2</td>\n",
       "    </tr>\n",
       "    <tr>\n",
       "      <th>1048571</th>\n",
       "      <td>1</td>\n",
       "      <td>13</td>\n",
       "      <td>2</td>\n",
       "      <td>2</td>\n",
       "      <td>NaN</td>\n",
       "      <td>2.0</td>\n",
       "      <td>2.0</td>\n",
       "      <td>51.0</td>\n",
       "      <td>NaN</td>\n",
       "      <td>2.0</td>\n",
       "      <td>...</td>\n",
       "      <td>1.0</td>\n",
       "      <td>2.0</td>\n",
       "      <td>2.0</td>\n",
       "      <td>2.0</td>\n",
       "      <td>2.0</td>\n",
       "      <td>2.0</td>\n",
       "      <td>7</td>\n",
       "      <td>2.0</td>\n",
       "      <td>2</td>\n",
       "      <td>2</td>\n",
       "    </tr>\n",
       "    <tr>\n",
       "      <th>1048572</th>\n",
       "      <td>2</td>\n",
       "      <td>13</td>\n",
       "      <td>2</td>\n",
       "      <td>1</td>\n",
       "      <td>NaN</td>\n",
       "      <td>NaN</td>\n",
       "      <td>2.0</td>\n",
       "      <td>55.0</td>\n",
       "      <td>NaN</td>\n",
       "      <td>2.0</td>\n",
       "      <td>...</td>\n",
       "      <td>2.0</td>\n",
       "      <td>2.0</td>\n",
       "      <td>2.0</td>\n",
       "      <td>2.0</td>\n",
       "      <td>2.0</td>\n",
       "      <td>2.0</td>\n",
       "      <td>7</td>\n",
       "      <td>NaN</td>\n",
       "      <td>2</td>\n",
       "      <td>2</td>\n",
       "    </tr>\n",
       "    <tr>\n",
       "      <th>1048573</th>\n",
       "      <td>2</td>\n",
       "      <td>13</td>\n",
       "      <td>2</td>\n",
       "      <td>1</td>\n",
       "      <td>NaN</td>\n",
       "      <td>NaN</td>\n",
       "      <td>2.0</td>\n",
       "      <td>28.0</td>\n",
       "      <td>NaN</td>\n",
       "      <td>2.0</td>\n",
       "      <td>...</td>\n",
       "      <td>2.0</td>\n",
       "      <td>2.0</td>\n",
       "      <td>2.0</td>\n",
       "      <td>2.0</td>\n",
       "      <td>2.0</td>\n",
       "      <td>2.0</td>\n",
       "      <td>7</td>\n",
       "      <td>NaN</td>\n",
       "      <td>2</td>\n",
       "      <td>2</td>\n",
       "    </tr>\n",
       "    <tr>\n",
       "      <th>1048574</th>\n",
       "      <td>2</td>\n",
       "      <td>13</td>\n",
       "      <td>2</td>\n",
       "      <td>1</td>\n",
       "      <td>NaN</td>\n",
       "      <td>NaN</td>\n",
       "      <td>2.0</td>\n",
       "      <td>52.0</td>\n",
       "      <td>NaN</td>\n",
       "      <td>2.0</td>\n",
       "      <td>...</td>\n",
       "      <td>2.0</td>\n",
       "      <td>2.0</td>\n",
       "      <td>2.0</td>\n",
       "      <td>2.0</td>\n",
       "      <td>2.0</td>\n",
       "      <td>2.0</td>\n",
       "      <td>7</td>\n",
       "      <td>NaN</td>\n",
       "      <td>2</td>\n",
       "      <td>2</td>\n",
       "    </tr>\n",
       "  </tbody>\n",
       "</table>\n",
       "<p>1048575 rows × 23 columns</p>\n",
       "</div>"
      ],
      "text/plain": [
       "         USMER  MEDICAL_UNIT  SEX  PATIENT_TYPE   DATE_DIED  INTUBED  \\\n",
       "0            2             1    1             1  03/05/2020      NaN   \n",
       "1            2             1    2             1  03/06/2020      NaN   \n",
       "2            2             1    2             2  09/06/2020      1.0   \n",
       "3            2             1    1             1  12/06/2020      NaN   \n",
       "4            2             1    2             1  21/06/2020      NaN   \n",
       "...        ...           ...  ...           ...         ...      ...   \n",
       "1048570      2            13    2             1         NaN      NaN   \n",
       "1048571      1            13    2             2         NaN      2.0   \n",
       "1048572      2            13    2             1         NaN      NaN   \n",
       "1048573      2            13    2             1         NaN      NaN   \n",
       "1048574      2            13    2             1         NaN      NaN   \n",
       "\n",
       "         PNEUMONIA   AGE  PREGNANT  DIABETES  ...  HIPERTENSION  \\\n",
       "0              1.0  65.0       2.0       2.0  ...           1.0   \n",
       "1              1.0  72.0       NaN       2.0  ...           1.0   \n",
       "2              2.0  55.0       NaN       1.0  ...           2.0   \n",
       "3              2.0  53.0       2.0       2.0  ...           2.0   \n",
       "4              2.0  68.0       NaN       1.0  ...           1.0   \n",
       "...            ...   ...       ...       ...  ...           ...   \n",
       "1048570        2.0  40.0       NaN       2.0  ...           2.0   \n",
       "1048571        2.0  51.0       NaN       2.0  ...           1.0   \n",
       "1048572        2.0  55.0       NaN       2.0  ...           2.0   \n",
       "1048573        2.0  28.0       NaN       2.0  ...           2.0   \n",
       "1048574        2.0  52.0       NaN       2.0  ...           2.0   \n",
       "\n",
       "         OTHER_DISEASE  CARDIOVASCULAR  OBESITY  RENAL_CHRONIC  TOBACCO  \\\n",
       "0                  2.0             2.0      2.0            2.0      2.0   \n",
       "1                  2.0             2.0      1.0            1.0      2.0   \n",
       "2                  2.0             2.0      2.0            2.0      2.0   \n",
       "3                  2.0             2.0      2.0            2.0      2.0   \n",
       "4                  2.0             2.0      2.0            2.0      2.0   \n",
       "...                ...             ...      ...            ...      ...   \n",
       "1048570            2.0             2.0      2.0            2.0      2.0   \n",
       "1048571            2.0             2.0      2.0            2.0      2.0   \n",
       "1048572            2.0             2.0      2.0            2.0      2.0   \n",
       "1048573            2.0             2.0      2.0            2.0      2.0   \n",
       "1048574            2.0             2.0      2.0            2.0      2.0   \n",
       "\n",
       "         CLASIFFICATION_FINAL  ICU  DEAD  Covid_Not_Covid  \n",
       "0                           3  NaN     1                1  \n",
       "1                           5  NaN     1                2  \n",
       "2                           3  2.0     1                1  \n",
       "3                           7  NaN     1                2  \n",
       "4                           3  NaN     1                1  \n",
       "...                       ...  ...   ...              ...  \n",
       "1048570                     7  NaN     2                2  \n",
       "1048571                     7  2.0     2                2  \n",
       "1048572                     7  NaN     2                2  \n",
       "1048573                     7  NaN     2                2  \n",
       "1048574                     7  NaN     2                2  \n",
       "\n",
       "[1048575 rows x 23 columns]"
      ]
     },
     "execution_count": 12,
     "metadata": {},
     "output_type": "execute_result"
    }
   ],
   "source": [
    "# The new df_null dataset\n",
    "df_null"
   ]
  },
  {
   "cell_type": "markdown",
   "id": "b40e2b84",
   "metadata": {},
   "source": [
    "___"
   ]
  },
  {
   "cell_type": "markdown",
   "id": "56fbdfc3",
   "metadata": {},
   "source": [
    "# MOSCOW Part"
   ]
  },
  {
   "cell_type": "markdown",
   "id": "084cbcba",
   "metadata": {},
   "source": [
    "## Promedio de edad de personas infectadas"
   ]
  },
  {
   "cell_type": "code",
   "execution_count": null,
   "id": "45681987",
   "metadata": {},
   "outputs": [],
   "source": []
  },
  {
   "cell_type": "markdown",
   "id": "a220ed4e",
   "metadata": {},
   "source": [
    "---"
   ]
  },
  {
   "cell_type": "markdown",
   "id": "e51b759a",
   "metadata": {},
   "source": [
    "## Cantidad de pacientes que murieron, porcentaje de edad"
   ]
  },
  {
   "cell_type": "code",
   "execution_count": null,
   "id": "4b9aa6df",
   "metadata": {},
   "outputs": [],
   "source": []
  },
  {
   "cell_type": "markdown",
   "id": "3a69e2f6",
   "metadata": {},
   "source": [
    "***"
   ]
  },
  {
   "cell_type": "markdown",
   "id": "6a60acfc",
   "metadata": {},
   "source": [
    "## Tasa de fallecimiento por condición de riesgo"
   ]
  },
  {
   "cell_type": "code",
   "execution_count": null,
   "id": "f9c3474d",
   "metadata": {},
   "outputs": [],
   "source": []
  },
  {
   "cell_type": "markdown",
   "id": "0b3d3a46",
   "metadata": {},
   "source": [
    "---"
   ]
  },
  {
   "cell_type": "markdown",
   "id": "eff58061",
   "metadata": {},
   "source": [
    "## Identificar la cantidad de casos positivos y el tipo de atención recibida"
   ]
  },
  {
   "cell_type": "code",
   "execution_count": 13,
   "id": "439a12bd",
   "metadata": {},
   "outputs": [
    {
     "data": {
      "image/png": "[encoded data removed]",
      "text/plain": [
       "<Figure size 576x576 with 1 Axes>"
      ]
     },
     "metadata": {},
     "output_type": "display_data"
    }
   ],
   "source": [
    "#Evaluating the total number of positive and negatives cases.\n",
    "classification = np.array(df_null['CLASIFFICATION_FINAL']); #Array for storing 'CLASIFFICATION_FINAL' data.\n",
    "\n",
    "positive_tests = np.count_nonzero(classification <= 3) #Total of occurrence of numbers less than or equal to 3.\n",
    "negative_tests = np.count_nonzero(classification >= 4) #Total of occurrence of numbers grater than or equal to 4.\n",
    "total_cases = positive_tests + negative_tests\n",
    "\n",
    "#Pie chart showing the difference between positive and negative cases\n",
    "sizes = [positive_tests, negative_tests]\n",
    "labels = ['Pruebas Positivas', 'Pruebas Negativas']\n",
    "colors = ['#FFC100', '#10B900']\n",
    "\n",
    "plt.figure(figsize = (8,8))\n",
    "plt.title('Distribución de pruebas Positivas y Negativas', fontsize = 20)\n",
    "plt.pie(sizes, labels = labels, colors = colors, autopct = '%1.1f%%', textprops = {'fontsize':20, 'weight': 'bold'}, startangle = 90)\n",
    "plt.legend([f'Positivas: {positive_tests}', f'Negativas: {negative_tests}'], title = f'Pruebas: {total_cases}', loc = 'upper right')\n",
    "plt.show()"
   ]
  },
  {
   "cell_type": "code",
   "execution_count": 14,
   "id": "6122b9a1",
   "metadata": {},
   "outputs": [
    {
     "ename": "NameError",
     "evalue": "name 'total_positives' is not defined",
     "output_type": "error",
     "traceback": [
      "\u001b[1;31m---------------------------------------------------------------------------\u001b[0m",
      "\u001b[1;31mNameError\u001b[0m                                 Traceback (most recent call last)",
      "Input \u001b[1;32mIn [14]\u001b[0m, in \u001b[0;36m<cell line: 30>\u001b[1;34m()\u001b[0m\n\u001b[0;32m     31\u001b[0m     x_val \u001b[38;5;241m=\u001b[39m means\u001b[38;5;241m.\u001b[39mget_width()\n\u001b[0;32m     32\u001b[0m     y_val \u001b[38;5;241m=\u001b[39m means\u001b[38;5;241m.\u001b[39mget_height()\n\u001b[1;32m---> 33\u001b[0m     mean \u001b[38;5;241m=\u001b[39m (y_val \u001b[38;5;241m/\u001b[39m \u001b[43mtotal_positives\u001b[49m) \u001b[38;5;241m*\u001b[39m \u001b[38;5;241m100\u001b[39m\n\u001b[0;32m     34\u001b[0m     ax\u001b[38;5;241m.\u001b[39mtext(means\u001b[38;5;241m.\u001b[39mget_x() \u001b[38;5;241m+\u001b[39m x_val\u001b[38;5;241m/\u001b[39m\u001b[38;5;241m2\u001b[39m, y_val\u001b[38;5;241m/\u001b[39m\u001b[38;5;241m2\u001b[39m, \u001b[38;5;124mf\u001b[39m\u001b[38;5;124m'\u001b[39m\u001b[38;5;132;01m{\u001b[39;00mmean\u001b[38;5;132;01m:\u001b[39;00m\u001b[38;5;124m.1f\u001b[39m\u001b[38;5;132;01m}\u001b[39;00m\u001b[38;5;124m%\u001b[39m\u001b[38;5;124m'\u001b[39m, ha\u001b[38;5;241m=\u001b[39m\u001b[38;5;124m'\u001b[39m\u001b[38;5;124mcenter\u001b[39m\u001b[38;5;124m'\u001b[39m, va\u001b[38;5;241m=\u001b[39m\u001b[38;5;124m'\u001b[39m\u001b[38;5;124mcenter\u001b[39m\u001b[38;5;124m'\u001b[39m, fontsize \u001b[38;5;241m=\u001b[39m \u001b[38;5;241m20\u001b[39m)\n\u001b[0;32m     37\u001b[0m \u001b[38;5;66;03m#Adding labels and designs to the chart\u001b[39;00m\n",
      "\u001b[1;31mNameError\u001b[0m: name 'total_positives' is not defined"
     ]
    },
    {
     "data": {
      "image/png": "[encoded data removed]",
      "text/plain": [
       "<Figure size 576x432 with 1 Axes>"
      ]
     },
     "metadata": {
      "needs_background": "light"
     },
     "output_type": "display_data"
    }
   ],
   "source": [
    "#Atenttion type received by positive cases.\n",
    "positive_cases = df_null[df_null['CLASIFFICATION_FINAL'] <= 3] #Filter positive cases.\n",
    "\n",
    "#Occurrences per patient.\n",
    "attention_counts = positive_cases['PATIENT_TYPE'].value_counts()\n",
    "\n",
    "#Assign a label and show the results\n",
    "if 1 in attention_counts.index:\n",
    "    patient_type_home = attention_counts[1]\n",
    "\n",
    "if 2 in attention_counts.index:\n",
    "    patient_type_hospitalized = attention_counts[2]\n",
    "\n",
    "#Graph to show the difference between people who went home and those who were hospitalized.\n",
    "fruits = ['Regresaron a casa', 'Fueron hospitalizados']\n",
    "counts = [patient_type_home, patient_type_hospitalized]\n",
    "bar_labels = ['Volvieron a casa', 'Fueron hospitalizados']\n",
    "bar_colors = ['#708BF1', '#E11F00']\n",
    "\n",
    "fig, ax = plt.subplots(figsize = (8,6))\n",
    "bars = ax.bar(fruits, counts, label=bar_labels, color=bar_colors)\n",
    "\n",
    "#Show the occurrences on the bars.\n",
    "for bar in bars:\n",
    "    x_val = bar.get_x() + bar.get_width() / 2\n",
    "    y_val = bar.get_height()\n",
    "    ax.text(x_val, y_val, f'{y_val}', ha='center', va='bottom', fontsize = 13)\n",
    "\n",
    "#Show the mean of each selection inside the bars.\n",
    "for means in bars:\n",
    "    x_val = means.get_width()\n",
    "    y_val = means.get_height()\n",
    "    mean = (y_val / total_positives) * 100\n",
    "    ax.text(means.get_x() + x_val/2, y_val/2, f'{mean:.1f}%', ha='center', va='center', fontsize = 20)\n",
    "\n",
    "\n",
    "#Adding labels and designs to the chart\n",
    "ax.set_ylabel('Número de Pacientes', fontsize = 15)\n",
    "ax.set_title('Atención recibida por casos positivos', fontsize = 20)\n",
    "ax.legend(title = 'Tipo de Paciente')\n",
    "ax.tick_params(axis='x', labelsize=15)\n",
    "plt.show()"
   ]
  },
  {
   "cell_type": "code",
   "execution_count": null,
   "id": "79ee5597",
   "metadata": {},
   "outputs": [],
   "source": [
    "#Show the percentage of infected patients who died.\n",
    "infected_who_died = df_null[(df_null['CLASIFFICATION_FINAL'] <= 3) & (df_null['DEAD'] == 1)]\n",
    "infected_who_died "
   ]
  },
  {
   "cell_type": "code",
   "execution_count": null,
   "id": "d03bd6b7",
   "metadata": {},
   "outputs": [],
   "source": [
    "#Save the total number of patients who were infected and died \n",
    "hospitalized_who_died = infected_who_died['PATIENT_TYPE'].value_counts()\n",
    "\n",
    "if 1 in hospitalized_who_died.index:\n",
    "    not_hospitalized_death = hospitalized_who_died[1]\n",
    "\n",
    "if 2 in hospitalized_who_died.index:\n",
    "    hospitalized_death = hospitalized_who_died[2]\n",
    "\n",
    "hospitalized_survived = patient_type_hospitalized - hospitalized_death\n",
    "#Pie chart to show the difference between hospitalized patient and hospitalized who died.\n",
    "sizes = [hospitalized_survived, hospitalized_death]\n",
    "labels = ['Hospitalizados supervivientes', 'Hospitalizados fallecidos']\n",
    "colors = ['#F1C670', '#DC70F1']\n",
    "\n",
    "plt.figure(figsize = (9,9))\n",
    "plt.title('Porcentaje de mortalidad de las personas hospitalizadas', fontsize = 20)\n",
    "plt.pie(sizes, labels = labels, colors = colors, autopct = '%1.1f%%', textprops = {'fontsize':20}, startangle = 90, explode=[0.02, 0.02])\n",
    "plt.legend([f'Supervivientes: {hospitalized_survived}', f'Fallecidos: {hospitalized_death}'], title = f'Hospitalizados: {patient_type_hospitalized}', loc = 'upper right')\n",
    "plt.show()"
   ]
  },
  {
   "cell_type": "code",
   "execution_count": null,
   "id": "fb27a6b4",
   "metadata": {},
   "outputs": [],
   "source": [
    "#Pie chart to show the difference between home patient and home who died.\n",
    "sizes = [patient_type_home, not_hospitalized_death]\n",
    "labels = ['Sobreviviente en casa', 'Fallecido en casa']\n",
    "colors = ['#7470F1', '#F1A770']\n",
    "\n",
    "home_survived = patient_type_home - not_hospitalized_death\n",
    "plt.figure(figsize = (9,9))\n",
    "plt.title('Porcentaje de mortalidad de personas en casa', fontsize = 20)\n",
    "plt.pie(sizes, labels = labels, colors = colors, autopct = '%1.1f%%', textprops = {'fontsize':20}, startangle = 50, explode=[0.02, 0.02])\n",
    "plt.legend([f'Supervivientes: {home_survived}', f'Fallecidos: {not_hospitalized_death}'], title = f'Hospitalizados: {patient_type_home}', loc = 'upper right')\n",
    "plt.show()"
   ]
  },
  {
   "cell_type": "markdown",
   "id": "4e16c7ad",
   "metadata": {},
   "source": [
    "<h3>Conclusiones del apartado </h3>"
   ]
  },
  {
   "cell_type": "markdown",
   "id": "4fe5aad6",
   "metadata": {},
   "source": [
    "- De un total de 1048575 de casos reportados, solo 391979 fueron diagnosticados con COVID-19 en diferentes grados, lo que significa que había una posibilidad de 37.4% de ser diagnosticado positivo y un 62.56% de ser diagnosticado como negativo.\n",
    "\n",
    "- De todos los casos diagnosticados como COVID-19 positivo, la probabilidad de que el paciente regresara a casa era de un 71.6%, dejando un margen mínimo de que el paciente necesitara ser hospitalizado para tratar la afección.\n",
    "\n",
    "- La probabilidad de que los pacientes hospitalizados fallecieran, era casi de un 50%, lo que nos permite identificar que el sesgo de supervivencia era mínimo y la distribución de estadísticas, era casi similar.\n",
    "\n",
    "- En cuanto a los pacientes que regresaron a casa, la tasa de mortalidad fue de 1.8%, dando como resultado una posibilidad de supervivencia mayoritaria.\n"
   ]
  },
  {
   "cell_type": "markdown",
   "id": "1505ccc0",
   "metadata": {},
   "source": [
    "---"
   ]
  },
  {
   "cell_type": "markdown",
   "id": "8db9493b",
   "metadata": {},
   "source": [
    "## Total de casos detectados"
   ]
  },
  {
   "cell_type": "code",
   "execution_count": null,
   "id": "6204f97b",
   "metadata": {},
   "outputs": [],
   "source": []
  },
  {
   "cell_type": "markdown",
   "id": "38b95ab6",
   "metadata": {},
   "source": [
    "---"
   ]
  },
  {
   "cell_type": "markdown",
   "id": "a5c2d32e",
   "metadata": {},
   "source": [
    "## Porcentaje de Infantes contagiados con su porcentaje de mortalidad"
   ]
  },
  {
   "cell_type": "markdown",
   "id": "6a48df99",
   "metadata": {},
   "source": [
    "Cabe destacar que se tomó como referencia a niños menores de 12 años, pues según estudios a partir de los 12 años empieza la adolescencia."
   ]
  },
  {
   "cell_type": "code",
   "execution_count": null,
   "id": "4b12a092",
   "metadata": {},
   "outputs": [],
   "source": [
    "# Creating a special dataframe only for the kids in the dataset\n",
    "df_kids = df_null[df_null['AGE'] < 12].copy()\n",
    "df_kids"
   ]
  },
  {
   "cell_type": "code",
   "execution_count": null,
   "id": "06d92c16",
   "metadata": {},
   "outputs": [],
   "source": [
    "# Checking the amount of kids with or without Covid\n",
    "df_kids[\"Covid_Not_Covid\"].value_counts()\n",
    "# Understanding that value 1 means that they are infected and value 2 means that they are not infected."
   ]
  },
  {
   "cell_type": "code",
   "execution_count": null,
   "id": "323cfaf8",
   "metadata": {},
   "outputs": [],
   "source": [
    "# Creating a graph to make visible the percentage of infected and non-infected children.\n",
    "labels = [\"No tiene Covid\", \"Tiene Covid\"]\n",
    "sizes = df_kids['Covid_Not_Covid'].value_counts()\n",
    "colors = ['#77FF88', '#A078FF']\n",
    "plt.figure(figsize = (10,10))\n",
    "plt.pie(sizes, labels=labels, autopct='%1.1f%%', textprops={'fontsize':20}, colors = colors)\n",
    "plt.title('Porcentaje de infantes contagiados entre los mismos infantes', color = '#FF6969', fontsize = 30)\n",
    "plt.legend(df_kids['Covid_Not_Covid'].value_counts(), loc = 'lower right', title = 'Conteo')\n",
    "plt.show()"
   ]
  },
  {
   "cell_type": "code",
   "execution_count": null,
   "id": "14ece659",
   "metadata": {},
   "outputs": [],
   "source": [
    "#Creating a graph to obtain the number of infected children among all patients.\n",
    "ninos_cont = df_null[(df_null['AGE'] < 12) & (df_null['Covid_Not_Covid'] == 1)].shape[0]\n",
    "adultos_cont = df_null[(df_null['AGE'] >= 12) & (df_null['Covid_Not_Covid'] == 1)].shape[0]\n",
    "\n",
    "labels = [\"Niños\", \"Adolescentes y Adultos\"]\n",
    "sizes = [ninos_cont, adultos_cont]\n",
    "colors = ['#77FF88', '#A078FF']\n",
    "plt.figure(figsize = (10,10))\n",
    "plt.pie(sizes, labels=labels, autopct='%1.1f%%', textprops={'fontsize':20}, colors = colors)\n",
    "plt.title('Porcentaje de infantes contagiados entre todos los contagiados', color = '#FF6969', fontsize = 30)\n",
    "plt.legend([ninos_cont, adultos_cont], loc = 'lower right', title = 'Conteo')\n",
    "plt.show()"
   ]
  },
  {
   "cell_type": "code",
   "execution_count": null,
   "id": "c2ebfee3",
   "metadata": {},
   "outputs": [],
   "source": [
    "print(\"Niños contagiados: \", ninos_cont)\n",
    "print(\"Adolescentes y adultos contagiados: \", adultos_cont)"
   ]
  },
  {
   "cell_type": "markdown",
   "id": "5f3f086d",
   "metadata": {},
   "source": [
    "##### We have to take into account that there are 345 missing data in the age column, and here we reflect a lack of 126 people who are infected, but do not have data on their age."
   ]
  },
  {
   "cell_type": "markdown",
   "id": "4bc48300",
   "metadata": {},
   "source": [
    "### Porcentaje de mortalidad entre los niños contagiados"
   ]
  },
  {
   "cell_type": "code",
   "execution_count": null,
   "id": "94841dd2",
   "metadata": {},
   "outputs": [],
   "source": [
    "# Creating a variable or array containing only the infected children.\n",
    "kids_infected = df_kids[(df_kids['Covid_Not_Covid'] == 1)]"
   ]
  },
  {
   "cell_type": "code",
   "execution_count": null,
   "id": "e4313b24",
   "metadata": {},
   "outputs": [],
   "source": [
    "# Checking the count of death and alive children.\n",
    "kids_infected[\"DEAD\"].value_counts()"
   ]
  },
  {
   "cell_type": "code",
   "execution_count": null,
   "id": "1ea78c87",
   "metadata": {},
   "outputs": [],
   "source": [
    "# Creating the graph to better observe the percentage of mortality.\n",
    "labels = [\"Vivos\", \"Muertos\"]\n",
    "sizes = kids_infected['DEAD'].value_counts()\n",
    "colors = ['#496780', '#FF1B12']\n",
    "plt.figure(figsize = (10,10))\n",
    "plt.pie(sizes, labels=labels, autopct='%1.1f%%', textprops={'fontsize':20, 'color':\"black\"}, colors = colors,\n",
    "        explode=[0.05, 0.05])\n",
    "plt.title('Porcentaje de mortalidad entre los niños contagiados',color = 'red',fontsize = 30)\n",
    "plt.legend(kids_infected['DEAD'].value_counts(), loc = 'lower right', title = 'Porcentaje de Mortalidad')\n",
    "plt.show()"
   ]
  },
  {
   "cell_type": "code",
   "execution_count": null,
   "id": "b9b35d0e",
   "metadata": {},
   "outputs": [],
   "source": [
    "# Creating a dataframe only for the dead infected children.\n",
    "inf_kids_dead = kids_infected[(kids_infected['DEAD'] == 1)]\n",
    "# Checking the age distribution between the infected children.\n",
    "plt.figure(figsize=(8, 8))\n",
    "sns.histplot(inf_kids_dead['AGE'], bins=10, color='skyblue', kde=False)\n",
    "plt.title('Distribución de Edades')\n",
    "plt.xlabel('Edad')\n",
    "plt.ylabel('Densidad')\n",
    "plt.show()"
   ]
  },
  {
   "cell_type": "code",
   "execution_count": null,
   "id": "2bcf9d63",
   "metadata": {},
   "outputs": [],
   "source": [
    "inf_kids_dead['AGE'].value_counts()"
   ]
  },
  {
   "cell_type": "markdown",
   "id": "7ab7f147",
   "metadata": {},
   "source": [
    "### Porcentaje de mortalidad de todos los niños en el dataset"
   ]
  },
  {
   "cell_type": "code",
   "execution_count": null,
   "id": "f66efcfb",
   "metadata": {},
   "outputs": [],
   "source": [
    "# Creating a graph to see the percentage of dead kids infected or not infected with Covid-19\n",
    "labels = [\"Vivos\", \"Muertos\"]\n",
    "sizes = df_kids['DEAD'].value_counts()\n",
    "colors = ['#496780', '#FF1B12']\n",
    "plt.figure(figsize = (10,10))\n",
    "plt.pie(sizes, labels=labels, autopct='%1.1f%%', textprops={'fontsize':20, 'color':\"black\"}, colors = colors,\n",
    "        explode=[0.05, 0.05])\n",
    "plt.title('Porcentaje de mortalidad de todos los niños registrados',color = 'red',fontsize = 30)\n",
    "plt.legend(df_kids['DEAD'].value_counts(), loc = 'lower right', title = 'Porcentaje de Mortalidad')\n",
    "plt.show()"
   ]
  },
  {
   "cell_type": "code",
   "execution_count": null,
   "id": "3c9ab260",
   "metadata": {},
   "outputs": [],
   "source": [
    "# Creating a dataframe only for the dead children.\n",
    "kids_dead = df_kids[(df_kids['DEAD'] == 1)]\n",
    "# Checking the age distribution between all the death kids.\n",
    "plt.figure(figsize=(8, 8))\n",
    "sns.histplot(kids_dead['AGE'], bins=10, color='skyblue', kde=False)\n",
    "plt.title('Distribución de Edades')\n",
    "plt.xlabel('Edad')\n",
    "plt.ylabel('Densidad')\n",
    "plt.show()"
   ]
  },
  {
   "cell_type": "code",
   "execution_count": null,
   "id": "caef2e93",
   "metadata": {},
   "outputs": [],
   "source": [
    "kids_dead['AGE'].value_counts()"
   ]
  },
  {
   "cell_type": "markdown",
   "id": "d6c4e036",
   "metadata": {},
   "source": [
    "### Conclusiones en el apartado"
   ]
  },
  {
   "cell_type": "markdown",
   "id": "468e0647",
   "metadata": {},
   "source": [
    "- De un total de 33904 niños a los cuales se les hicieron pruebas de Covid, solo 5131 salieron positivos en uno de los tres niveles de detección; lo que representa solo un 15.1% de esa población de niños.\n",
    "\n",
    "- De todos los pacientes que fueron detectados y que conocemos su edad, solo representan un 1.3%, por ende, los niños no representan una gran cantidad de casos positivos en el estudio.\n",
    "\n",
    "- El porcentaje de mortalidad en los niños contagiados es bastante bajo, con solo un 2.8%, lo que equivale a solo 143 niños que murieron.\n",
    "\n",
    "- La edad con mayor tasa de mortalidad en niños contagiados son los 0 años con 48 defunciones y le sigue 1 año de edad con 38 defunciones, siendo las dos edades con mayor porcentaje de mortalidad.\n",
    "\n",
    "- De todos los niños registrados, hubieron 650 que murieron, de los cuales solo 143 fueron detectados con Covid-19 y representan un porcentaje de mortalidad de 1.9%.\n",
    "\n",
    "- Las edades con las tasas de mortalidad más altas fueron los 0 a los 11 años, pero la edad con más mortalidad son los 0 años, con 209 muertes."
   ]
  },
  {
   "cell_type": "markdown",
   "id": "050465c2",
   "metadata": {},
   "source": [
    "***"
   ]
  }
 ],
 "metadata": {
  "kernelspec": {
   "display_name": "Python 3 (ipykernel)",
   "language": "python",
   "name": "python3"
  },
  "language_info": {
   "codemirror_mode": {
    "name": "ipython",
    "version": 3
   },
   "file_extension": ".py",
   "mimetype": "text/x-python",
   "name": "python",
   "nbconvert_exporter": "python",
   "pygments_lexer": "ipython3",
   "version": "3.9.12"
  }
 },
 "nbformat": 4,
 "nbformat_minor": 5
}
